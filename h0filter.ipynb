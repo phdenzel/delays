{
 "cells": [
  {
   "cell_type": "markdown",
   "metadata": {},
   "source": [
    "## Imports"
   ]
  },
  {
   "cell_type": "code",
   "execution_count": 1,
   "metadata": {},
   "outputs": [],
   "source": [
    "import sys\n",
    "import os\n",
    "import numpy as np\n",
    "from scipy.optimize import curve_fit\n",
    "import matplotlib as mpl\n",
    "import matplotlib.pyplot as plt\n",
    "root = \"/Users/phdenzel/gleam\"\n",
    "sys.path.append(root)\n",
    "import gleam\n",
    "from gleam.lensobject import LensObject\n",
    "from gleam.utils.lensing import LensModel\n",
    "from gleam.reconsrc import ReconSrc, run_model\n",
    "from gleam.utils.plotting import kappa_map_plot, kappa_profiles_plot\n",
    "from gleam.utils.plotting import arrival_time_surface_plot\n",
    "from gleam.utils.plotting import plot_scalebar, plot_labelbox\n",
    "from gleam.utils.rgb_map import radial_mask\n",
    "from gleam.utils.units import H02aHz, aHz2H0, H02Gyrs, H02critdens\n",
    "import gleam.utils.colors as gcl\n",
    "gcl.GLEAMcmaps.register_all()\n"
   ]
  },
  {
   "cell_type": "markdown",
   "metadata": {},
   "source": [
    "## Load data"
   ]
  },
  {
   "cell_type": "code",
   "execution_count": 2,
   "metadata": {},
   "outputs": [
    {
     "name": "stdout",
     "output_type": "stream",
     "text": [
      "B1608+656\n"
     ]
    }
   ],
   "source": [
    "#        ACS          ACS(WFC3)        ACS(WFC3)      WFC3(UNK)\n",
    "#        WFC3         SBC              WFC3           ACS(GAIA)\n",
    "objs = ['B1608+656', 'DESJ0408-5354', 'HE0435-1223', 'PG1115+080',\n",
    "        'RXJ0911+0551', 'RXJ1131-1231', 'SDSSJ1004+4112', 'WFIJ2033-4723']\n",
    "objidx = 0\n",
    "sigf = 20     #   80(20),  100(25),   60(12),  600(60),  140(35), 4000 (50),   80,   80\n",
    "lens = objs[objidx]\n",
    "print(lens)\n"
   ]
  },
  {
   "cell_type": "code",
   "execution_count": 3,
   "metadata": {},
   "outputs": [
    {
     "name": "stdout",
     "output_type": "stream",
     "text": [
      "data/delay_qsos/B1608+656.fits\n",
      "jsons/B1608+656.json\n"
     ]
    }
   ],
   "source": [
    "fitsdir = 'data/delay_qsos/'\n",
    "fitsfile = fitsdir + '{}.fits'.format(lens)\n",
    "print(fitsfile)\n",
    "\n",
    "jsondir = 'jsons/'\n",
    "jsonfile = jsondir + '{}.json'.format(lens)\n",
    "print(jsonfile)\n"
   ]
  },
  {
   "cell_type": "code",
   "execution_count": 4,
   "metadata": {},
   "outputs": [
    {
     "name": "stdout",
     "output_type": "stream",
     "text": [
      "Properties of that field are unknown [None]\n",
      "filename            \tB1608+656.json\n",
      "filepath            \t/Users/phdenzel/delays/jsons/B1608+656.json\n",
      "band                \t\n",
      "naxis1              \t99\n",
      "naxis2              \t99\n",
      "naxis_plus          \tNone\n",
      "refval              \t[242.30025957375, 65.541446346654]\n",
      "refpx               \t[69.5, -175.5]\n",
      "center              \t<242.3009, 65.5446>\n",
      "px2deg              \t[1.388888888888882e-05, 1.388888888888882e-05]\n",
      "px2arcsec           \t[0.04999999999999975, 0.04999999999999975]\n",
      "megacam_range       \tNone\n",
      "field               \tNone\n",
      "photzp              \tNone\n",
      "mag_formula         \t<function mag_formula at 0x7fc294ba8e60>\n",
      "roi                 \tROISelector(99, 99)\n",
      "lens                \tNone\n",
      "srcimgs             \t[]\n",
      "zl                  \t0.63\n",
      "zs                  \t1.39\n",
      "mapr                \t2.475\n",
      "tdelay              \tNone\n",
      "tderr               \tNone\n",
      "light_model         \t{}\n",
      "stel_mass           \tNone\n",
      "glscfactory         \tGLSCFactory(zl, srcimgs, parity, tderr...)\n",
      "finder              \tLensFinder(peaks(1/5):(4, 4)σ)\n"
     ]
    }
   ],
   "source": [
    "with open(jsonfile) as f:\n",
    "    lo = LensObject.from_json(f)\n",
    "lo.squarify(0)   # 0, 0, 0, 0, 0\n",
    "print(lo.__v__)\n"
   ]
  },
  {
   "cell_type": "code",
   "execution_count": 5,
   "metadata": {},
   "outputs": [
    {
     "name": "stdout",
     "output_type": "stream",
     "text": [
      "7quads_dg60.state\n"
     ]
    }
   ],
   "source": [
    "statedir = 'states/'\n",
    "statefiles = ['11doubles_dg45.state',\n",
    "              '11doubles_dg60.state', '11doubles_CMB_dg60.state', '11doubles_SNeIa_dg60.state',\n",
    "              '7quads_dg45.state', '7quads_CMB_dg45.state', '7quads_SNeIa_dg45.state',\n",
    "              '7quads_dg60.state', '7quads_CMB_dg60.state', '7quads_SNeIa_dg60.state', \n",
    "              'all_dg60.state', 'all_SNeIa_dg60.state']\n",
    "statefile = statefiles[7]  # 7  8/9 5/6\n",
    "print(statefile)\n"
   ]
  },
  {
   "cell_type": "code",
   "execution_count": 6,
   "metadata": {},
   "outputs": [
    {
     "name": "stdout",
     "output_type": "stream",
     "text": [
      "filename            \t7quads_dg60.state\n",
      "filepath            \tstates/7quads_dg60.state\n",
      "N                   \t1000\n",
      "pixrad              \t8\n",
      "maprad              \t1.84670387036\n",
      "pixel_size          \t0.0434518557732\n",
      "kappa               \tNone\n",
      "minima              \t[[-0.8215179170393514   1.2798384391770945 ]\n",
      " [ 1.0982397417262912   0.42373029405187596]]\n",
      "saddle_points       \t[[ 0.6745094476744152   1.2020104259838928 ]\n",
      " [-0.22483648255813793 -0.6399192195885473 ]]\n",
      "maxima              \t[]\n",
      "zl                  \t0.63\n",
      "zs                  \t1.39\n",
      "N_obj               \t8\n",
      "N_src               \t1\n",
      "obj_idx             \t0\n",
      "src_idx             \t0\n"
     ]
    }
   ],
   "source": [
    "lm = LensModel(statedir+statefile)\n",
    "lm.obj_idx = objidx\n",
    "print(lm.__v__)\n"
   ]
  },
  {
   "cell_type": "code",
   "execution_count": 7,
   "metadata": {},
   "outputs": [
    {
     "name": "stdout",
     "output_type": "stream",
     "text": [
      "1000\n"
     ]
    }
   ],
   "source": [
    "# %%script false\n",
    "qs = np.loadtxt(\"results/filters/7quads_dg60_B1608+656_chi2.txt\")\n",
    "# qs = np.loadtxt(\"results/filters/7quads_dg60_DESJ0408-5354_chi2.txt\")\n",
    "print(len(qs))\n"
   ]
  },
  {
   "cell_type": "code",
   "execution_count": 8,
   "metadata": {},
   "outputs": [
    {
     "name": "stdout",
     "output_type": "stream",
     "text": [
      "809 1.2325791319533947\n"
     ]
    }
   ],
   "source": [
    "iqs = np.argsort(qs)\n",
    "iq = iqs[0]\n",
    "print iq, qs[iq]"
   ]
  },
  {
   "cell_type": "code",
   "execution_count": 9,
   "metadata": {},
   "outputs": [
    {
     "name": "stdout",
     "output_type": "stream",
     "text": [
      "([66.9, 67.4, 67.9], [0, 0, 0])\n"
     ]
    }
   ],
   "source": [
    "class Measure(object):\n",
    "    def __init__(self, name, mean, std=None):\n",
    "        self.name = name\n",
    "        self.mean = mean\n",
    "        if isinstance(std, (int, float)):\n",
    "            std = (-std, std)\n",
    "        self.std = std\n",
    "        \n",
    "    def __call__(self, y=0):\n",
    "        measure = [self.sig_lim[0], self.mean, self.sig_lim[1]]\n",
    "        return measure, [y for i in measure]\n",
    "    \n",
    "    def plot(self, y=0, color=None, msize=4, xshift=0, yshift=0, lw=3, fontsize=18):\n",
    "        estimate = self(y)\n",
    "        plt.scatter(self.mean, y, s=msize, color=color)\n",
    "        plt.plot(*estimate, lw=lw, color=color)\n",
    "        plt.text(self.mean+xshift, y+yshift, self.name, color='black',\n",
    "                 fontsize=fontsize, horizontalalignment='center')\n",
    "        \n",
    "    @property\n",
    "    def sig_lims(self):\n",
    "        return self.mean+self.std[0], self.mean+self.std[1]\n",
    "\n",
    "planck = Measure(name=\"Planck\", mean=67.4, std=0.5)  # arxiv.org/abs/1807.06209\n",
    "shoes = Measure(name=\"SH0ES\", mean=74.03, std=1.42)  # arxiv.org/abs/1903.07603\n",
    "cchp = Measure(name=\"CCHP\", mean=69.8, std=1.7)  # arxiv.org/abs/1907.05922\n",
    "print(planck())\n"
   ]
  },
  {
   "cell_type": "code",
   "execution_count": 10,
   "metadata": {},
   "outputs": [
    {
     "name": "stdout",
     "output_type": "stream",
     "text": [
      "2.460696855311345\n",
      "12.935761895933169\n",
      "6.07467310038713\n"
     ]
    }
   ],
   "source": [
    "H0data = np.array(lm.H0)\n",
    "H0data = H0data[iqs[:300]]  # best 30%\n",
    "\n",
    "aHzH0 = H02aHz(H0data)\n",
    "invH0 = H02Gyrs(H0data)\n",
    "rhocrit = H02critdens(H0data)\n",
    "print(aHzH0[0])\n",
    "print(invH0[0])\n",
    "print(rhocrit[0])\n"
   ]
  },
  {
   "cell_type": "code",
   "execution_count": 39,
   "metadata": {},
   "outputs": [
    {
     "data": {
      "image/png": "[encoded data removed]",
      "text/plain": [
       "<Figure size 432x288 with 2 Axes>"
      ]
     },
     "metadata": {
      "needs_background": "light"
     },
     "output_type": "display_data"
    }
   ],
   "source": [
    "q = np.percentile(aHzH0, [16, 50, 84])\n",
    "\n",
    "fig, ax = plt.subplots()\n",
    "axc = ax.twiny()\n",
    "# second unit axis\n",
    "def convertaxc(ax):\n",
    "    x1, x2 = ax.get_xlim()\n",
    "    axc.set_xlim(aHz2H0(x1), aHz2H0(x2))\n",
    "    axc.figure.canvas.draw()\n",
    "ax.callbacks.connect(\"xlim_changed\", convertaxc)\n",
    "\n",
    "n, bins, patches = ax.hist(aHzH0, bins=25, density=True, rwidth=0.901)\n",
    "cm = plt.cm.get_cmap('phoenix')\n",
    "ax.axvline(q[1], color=gcl.pink, alpha=0.6)\n",
    "ax.axvline(q[0], color=gcl.red, alpha=0.6)\n",
    "ax.axvline(q[2], color=gcl.red, alpha=0.6)\n",
    "yl = ax.get_ylim()\n",
    "\n",
    "# add gaussian/lorentzian/voigt color scheme to pdf\n",
    "bin_centers = 0.5 * (bins[:-1] + bins[1:])\n",
    "def lorentzian(x, mu, gamma, I):\n",
    "    return I/(np.pi*gamma) * gamma*gamma/((x - mu)**2 + gamma*gamma)\n",
    "def gaussian(x, mu, sigma, I):\n",
    "    return I/np.sqrt(2*np.pi*sigma**2) * np.exp(-0.5*(mu - x)**2/sigma**2)\n",
    "def pseudovoigt(x, x0, sigma, gamma, eta, I):\n",
    "    g = np.exp(0.5*(x-x0)**2/sigma**2)\n",
    "    l = gamma*gamma / ((x-x0)**2 + gamma*gamma)\n",
    "    return I*(eta*g + (1-eta)*l)\n",
    "dx = bin_centers[1]-bin_centers[0]\n",
    "xdata = [bin_centers[0]-i*dx for i in range(1, 16)] + list(bin_centers) + [bin_centers[-1]+i*dx for i in range(1, 16)]\n",
    "ydata = [0 for i in range(15)] + list(n) + [0 for i in range(15)]\n",
    "lpopt, lpcov = curve_fit(lorentzian, xdata, ydata)\n",
    "ldist = lorentzian(bin_centers, lpopt[0], lpopt[1], lpopt[2])\n",
    "gpopt, gpcov = curve_fit(gaussian, xdata, ydata)\n",
    "gdist = gaussian(bin_centers, gpopt[0], gpopt[1], gpopt[2])\n",
    "vpopt, vpcov = curve_fit(pseudovoigt, xdata, ydata)\n",
    "vdist = pseudovoigt(bin_centers, vpopt[0], vpopt[1], vpopt[2], vpopt[3], vpopt[4])\n",
    "for c, p in zip(ldist/ldist.max(), patches):\n",
    "    plt.setp(p, 'facecolor', cm(c))\n",
    "\n",
    "# add gaussian/lorentzian/voigt fits\n",
    "xdata = np.linspace(xdata[0], xdata[-1], 200)\n",
    "fit = lorentzian(xdata, lpopt[0], lpopt[1], lpopt[2])\n",
    "ax.plot(xdata, fit, label='Lorentzian', color=cm(0.5))\n",
    "fit = gaussian(xdata, gpopt[0], gpopt[1], gpopt[2])\n",
    "ax.plot(xdata, fit, label='Gaussian', color=cm(0.1))\n",
    "fit = pseudovoigt(xdata, vpopt[0], vpopt[1], vpopt[2], vpopt[3], vpopt[4])\n",
    "ax.plot(xdata, fit, label='Pseudo-Voigt', color=cm(1.0))\n",
    "ax.legend(loc='upper right', fontsize=10, numpoints=1, borderpad=0.3)\n",
    "\n",
    "# # plot the values\n",
    "# xmeasure = [planck, cchp, shoes]\n",
    "# ymeasure = [4, 3.9, 3.8]\n",
    "# for x, y, c in zip(xmeasure, ymeasure, [cm(0.25), cm(1.), cm(.5)]):\n",
    "#     if x.name == 'Planck':\n",
    "#         xshift = -2\n",
    "#     else:\n",
    "#         xshift = 0\n",
    "#     x.plot(y, xshift=xshift, yshift=0.4, msize=75, color=c)\n",
    "    \n",
    "# add result text\n",
    "plt.rcParams['mathtext.fontset'] = 'stixsans'\n",
    "Hstr = 'H$_0$ = ${:5.1f}^{{{:+4.1f}}}_{{{:+4.1f}}}$'\n",
    "q = np.percentile(H0data, [16, 50, 84])\n",
    "plt.text(0.02, 0.85, Hstr.format(q[1], np.diff(q)[1], -np.diff(q)[0]), fontsize=19, color='black', transform=plt.gca().transAxes)\n",
    "\n",
    "fig.axes[0].get_yaxis().set_visible(False)\n",
    "ax.set_xlim(bins[0]-dx, bins[-1]+dx)\n",
    "# ax.set_ylim(0, 5)\n",
    "ax.set_ylim(yl)\n",
    "ax.set_xlabel('H$_0$ [aHz]')\n",
    "axc.set_xlabel('H$_0$ [km/s/Mpc]', fontsize=12)\n",
    "plt.setp(axc.get_xticklabels(), fontsize=12)\n",
    "plt.tight_layout()\n",
    "plt.savefig('results/_H0hist_{}_filter{}.pdf'.format(statefile.replace('.state', ''), lens), transparent=True, bbox_inches='tight', pad_inches=0)\n",
    "# plt.close()\n",
    "plt.show()"
   ]
  },
  {
   "cell_type": "code",
   "execution_count": null,
   "metadata": {},
   "outputs": [],
   "source": []
  }
 ],
 "metadata": {
  "kernelspec": {
   "display_name": "Python 2.7.15 64-bit",
   "language": "python",
   "name": "python271564bitd942312e7b7943e19baa3c7e3a3a5111"
  },
  "language_info": {
   "codemirror_mode": {
    "name": "ipython",
    "version": 2
   },
   "file_extension": ".py",
   "mimetype": "text/x-python",
   "name": "python",
   "nbconvert_exporter": "python",
   "pygments_lexer": "ipython2",
   "version": "2.7.15"
  }
 },
 "nbformat": 4,
 "nbformat_minor": 2
}
