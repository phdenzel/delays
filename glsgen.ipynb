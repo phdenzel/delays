{
 "cells": [
  {
   "cell_type": "markdown",
   "metadata": {},
   "source": [
    "# Inspect lenses and generate GLASS configs"
   ]
  },
  {
   "cell_type": "markdown",
   "metadata": {},
   "source": [
    "## Imports"
   ]
  },
  {
   "cell_type": "code",
   "execution_count": null,
   "metadata": {},
   "outputs": [],
   "source": [
    "import sys\n",
    "import os\n",
    "import pprint\n",
    "import json\n",
    "import numpy as np\n",
    "import matplotlib.pyplot as plt\n",
    "import ipywidgets as widgets\n",
    "\n",
    "from astropy.io import fits\n",
    "from astropy.wcs import WCS\n",
    "from astropy.nddata import Cutout2D\n",
    "\n",
    "root = \"/Users/phdenzel/gleam\"\n",
    "sys.path.append(root)\n",
    "import gleam\n",
    "from gleam.lensobject import LensObject\n",
    "from gleam.multilens import MultiLens\n",
    "from gleam.utils.plotting import IPColorbar, IPPointCache\n",
    "import gleam.utils.colors as gcl\n",
    "gcl.GLEAMcmaps.register_all()"
   ]
  },
  {
   "cell_type": "markdown",
   "metadata": {},
   "source": [
    "## Main"
   ]
  },
  {
   "cell_type": "markdown",
   "metadata": {},
   "source": [
    "### Search for a fits file"
   ]
  },
  {
   "cell_type": "code",
   "execution_count": null,
   "metadata": {},
   "outputs": [],
   "source": [
    "fidx = 19\n",
    "files = !ls data/delay_qsos/*.fits\n",
    "pprint.pprint(files)\n",
    "filename = files[fidx]\n",
    "lensname = os.path.basename(filename).split('.')[0].replace('-i', '').replace('-r', '').replace('_alt', '')\n",
    "print(\"Selected file: {}\".format(lensname))"
   ]
  },
  {
   "cell_type": "markdown",
   "metadata": {},
   "source": [
    "### Get other infos for the configs"
   ]
  },
  {
   "cell_type": "code",
   "execution_count": null,
   "metadata": {},
   "outputs": [],
   "source": [
    "# fits table extracted from https://www.ast.cam.ac.uk/ioa/research/lensedquasars/index.html\n",
    "qsos = fits.open(\"data/lensedquasars.fits\")[1]\n",
    "\n",
    "# JSON extracted from https://arxiv.org/abs/1002.2570\n",
    "with open('data/table_1002.2570.json') as json_file:\n",
    "    delay_qsos = json.load(json_file)"
   ]
  },
  {
   "cell_type": "code",
   "execution_count": null,
   "metadata": {},
   "outputs": [],
   "source": [
    "# info from fits table\n",
    "lensedquasars_table = qsos.data\n",
    "if 'WFI' in lensname:\n",
    "    lensname = lensname.replace('J', '')\n",
    "info_table = lensedquasars_table[lensedquasars_table['Name'] == lensname]\n",
    "pprint.pprint(zip(info_table.dtype.names, info_table[0]))\n",
    "table_keys = {'Name': ('name', lambda k: str(k[0])), 'z_lens': ('zl', lambda s: float(s.replace('?', ''))), 'z_qso': ('zs', float)}\n",
    "info_table = {table_keys[name][0]: table_keys[name][1](info_table[name])\n",
    "              for name in info_table.dtype.names if name in table_keys}\n"
   ]
  },
  {
   "cell_type": "code",
   "execution_count": null,
   "metadata": {},
   "outputs": [],
   "source": [
    "if 'WFI' in lensname:\n",
    "    lensname = lensname.replace('WFI', 'WFIJ')\n",
    "info_json = delay_qsos[[str(dct['shortname']).replace(\" \", \"\") for dct in delay_qsos].index(lensname)]\n",
    "positions = np.array([info_json[name] for name in ['x', 'y']]).T\n",
    "json_keys = {'zl': 'zl', 'zs': 'zs', 'delays': 'delay'}\n",
    "info_json = {json_keys[name]: info_json[name] for name in info_json.keys() if name in json_keys}\n",
    "# info_json['name'] = lensname\n",
    "info_json['srcimgs'] = positions\n",
    "info_json['tdelay'] = [td[0] if td is not None else 0 for td in info_json['delay']]\n",
    "info_json['tderr'] = [max(td[1], td[2]) if td is not None else 0 for td in info_json['delay']]\n",
    "info_json"
   ]
  },
  {
   "cell_type": "code",
   "execution_count": null,
   "metadata": {},
   "outputs": [],
   "source": [
    "info = info_json.copy()\n",
    "info.update(info_table)\n",
    "pprint.pprint(info)"
   ]
  },
  {
   "cell_type": "markdown",
   "metadata": {},
   "source": [
    "### Read fits file"
   ]
  },
  {
   "cell_type": "code",
   "execution_count": null,
   "metadata": {},
   "outputs": [],
   "source": [
    "hdu = fits.open(filename)\n",
    "hdu[0].header"
   ]
  },
  {
   "cell_type": "code",
   "execution_count": null,
   "metadata": {
    "scrolled": false
   },
   "outputs": [],
   "source": [
    "lo = LensObject(filename, auto=False, glscfactory_options={'name': info['name'], 'output': info['name']},\n",
    "                zl=info['zl'], zs=info['zs'],\n",
    "                tdelay=info['tdelay'], tderr=info['tderr'])\n",
    "lo.lens = lo.center\n",
    "for img in info['srcimgs']:\n",
    "    lo.add_srcimg(lo.lens.xy+img/lo.px2arcsec, unit='pixel', relative=True)\n",
    "# lo = MultiLens(filename)\n",
    "print(lo.__v__)"
   ]
  },
  {
   "cell_type": "code",
   "execution_count": null,
   "metadata": {},
   "outputs": [],
   "source": [
    "if 'ORIENTAT' in lo.hdr:\n",
    "    orientat = lo.hdr['ORIENTAT']\n",
    "else:\n",
    "    orientat = 0\n",
    "orientat"
   ]
  },
  {
   "cell_type": "code",
   "execution_count": null,
   "metadata": {},
   "outputs": [],
   "source": [
    "print(lo.srcimgs_xy)"
   ]
  },
  {
   "cell_type": "markdown",
   "metadata": {},
   "source": [
    "### Check out lens"
   ]
  },
  {
   "cell_type": "code",
   "execution_count": null,
   "metadata": {
    "scrolled": false
   },
   "outputs": [],
   "source": [
    "%matplotlib notebook\n",
    "\n",
    "fig, ax = plt.subplots()\n",
    "\n",
    "# from matplotlib import transforms\n",
    "# transf = transforms.Affine2D().rotate_deg(orientat) + ax.transData\n",
    "# fig, ax, plt_out = lo.plot_f(fig, ax=ax, cmap=gcl.GLEAMcmaps.phoenix, colorbar=True,\n",
    "#                              vmin=0, vmax=0.5*np.max(lo.data),\n",
    "#                              lens=True, source_images=True, label_images=False, scalebar=False,\n",
    "#                              transform=transf)\n",
    "\n",
    "fig, ax, plt_out = lo.plot_f(fig, ax=ax, cmap=gcl.GLEAMcmaps.vilux, colorbar=True,\n",
    "                             vmin=0, vmax=0.5*np.max(lo.data), source_images=False,\n",
    "                             deconv=False, psf=np.ones((3, 3))/25.)\n",
    "clrbar = IPColorbar(plt_out[1], plt_out[0])\n",
    "clrbar.connect()\n",
    "cache = IPPointCache(plt_out[0])\n",
    "cid = cache.connect()"
   ]
  },
  {
   "cell_type": "code",
   "execution_count": null,
   "metadata": {
    "scrolled": true
   },
   "outputs": [],
   "source": [
    "if cache.xy:\n",
    "    subj = cache.modes.index('L')\n",
    "    print(lo.px2arcsec)\n",
    "    print(subj)\n",
    "    d = cache.distances_to(subj, pixel_scale=np.array(lo.px2arcsec))\n",
    "    pprint.pprint(d)\n",
    "    pprint.pprint([np.sqrt(di[0]**2 + di[1]**2) for di in d])\n",
    "    "
   ]
  },
  {
   "cell_type": "code",
   "execution_count": null,
   "metadata": {},
   "outputs": [],
   "source": [
    "%%script false\n",
    "# pprint.pprint(lo.hdr)\n",
    "# print(\"Pixel coordinates\")\n",
    "# lens = lo.lens.xy\n",
    "# pprint.pprint(lens)\n",
    "# ABCD = lo.srcimgs_xy\n",
    "# pprint.pprint(ABCD)\n",
    "\n",
    "# print(\"Pixel scale\")\n",
    "# px2arcsec = lo.px2arcsec\n",
    "# pprint.pprint(px2arcsec)\n",
    "\n",
    "print(\"Arcsec coordinates\")\n",
    "arcsecs = np.array(lo.finder.relative_positions(lo.srcimgs, lo.lens))\n",
    "# pprint.pprint(arcsecs)\n",
    "pprint.pprint(info['srcimgs'])\n",
    "\n",
    "# print(\"Maximal separation\")\n",
    "# pprint.pprint(lo.maprad)\n",
    "# pprint.pprint([np.sqrt((x+y)**2) for (x, y) in arcsecs])\n",
    "\n",
    "print(\"Time delay\")\n",
    "pprint.pprint(lo.tdelay)"
   ]
  },
  {
   "cell_type": "markdown",
   "metadata": {},
   "source": [
    "### Save GLASS configs"
   ]
  },
  {
   "cell_type": "code",
   "execution_count": null,
   "metadata": {
    "scrolled": false
   },
   "outputs": [],
   "source": [
    "%%script false\n",
    "lo.glscfactory.sync_lens_params()\n",
    "configs = lo.glscfactory.config['single']\n",
    "print(\"\".join(configs))"
   ]
  },
  {
   "cell_type": "code",
   "execution_count": null,
   "metadata": {},
   "outputs": [],
   "source": [
    "%%script false\n",
    "savename = \"{}.gls\".format(lensname)\n",
    "lo.glscfactory.write(filename=savename)"
   ]
  }
 ],
 "metadata": {
  "kernelspec": {
   "display_name": "Python 2",
   "language": "python",
   "name": "python2"
  },
  "language_info": {
   "codemirror_mode": {
    "name": "ipython",
    "version": 2
   },
   "file_extension": ".py",
   "mimetype": "text/x-python",
   "name": "python",
   "nbconvert_exporter": "python",
   "pygments_lexer": "ipython2",
   "version": "2.7.15"
  }
 },
 "nbformat": 4,
 "nbformat_minor": 2
}
