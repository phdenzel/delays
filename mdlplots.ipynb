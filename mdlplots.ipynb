{
 "cells": [
  {
   "cell_type": "markdown",
   "metadata": {},
   "source": [
    "# Inspect GLASS models and generate synthetic images"
   ]
  },
  {
   "cell_type": "markdown",
   "metadata": {},
   "source": [
    "## Imports"
   ]
  },
  {
   "cell_type": "code",
   "execution_count": 1,
   "metadata": {},
   "outputs": [],
   "source": [
    "import sys\n",
    "import os\n",
    "import numpy as np\n",
    "import matplotlib as mpl\n",
    "import matplotlib.pyplot as plt\n",
    "root = \"/Users/phdenzel/gleam\"\n",
    "sys.path.append(root)\n",
    "import gleam\n",
    "from gleam.lensobject import LensObject\n",
    "from gleam.utils.lensing import LensModel\n",
    "from gleam.reconsrc import ReconSrc, run_model\n",
    "from gleam.utils.plotting import kappa_map_plot, kappa_profiles_plot\n",
    "from gleam.utils.plotting import arrival_time_surface_plot\n",
    "from gleam.utils.plotting import plot_scalebar, plot_labelbox\n",
    "from gleam.utils.rgb_map import radial_mask\n",
    "import gleam.utils.colors as gcl\n",
    "gcl.GLEAMcmaps.register_all()\n"
   ]
  },
  {
   "cell_type": "markdown",
   "metadata": {},
   "source": [
    "## Load data files"
   ]
  },
  {
   "cell_type": "code",
   "execution_count": 2,
   "metadata": {},
   "outputs": [
    {
     "name": "stdout",
     "output_type": "stream",
     "text": [
      "PG1115+080\n"
     ]
    }
   ],
   "source": [
    "#        ACS          ACS(WFC3)        ACS(WFC3)      WFC3(UNK)\n",
    "#        ACS(WFC3)    SBC              WFC3           ACS(GAIA)\n",
    "objs = ['B1608+656', 'DESJ0408-5354', 'HE0435-1223', 'PG1115+080',\n",
    "        'RXJ0911+0551', 'RXJ1131-1231', 'SDSSJ1004+4112', 'WFIJ2033-4723']\n",
    "objidx = 3\n",
    "sigf = 600     #   80,  100,   60,  600,  140, 4000,   80,   80\n",
    "lens = objs[objidx]\n",
    "print(lens)\n"
   ]
  },
  {
   "cell_type": "code",
   "execution_count": 3,
   "metadata": {},
   "outputs": [
    {
     "name": "stdout",
     "output_type": "stream",
     "text": [
      "data/delay_qsos/PG1115+080.fits\n",
      "jsons/PG1115+080.json\n"
     ]
    }
   ],
   "source": [
    "fitsdir = 'data/delay_qsos/'\n",
    "fitsfile = fitsdir + '{}.fits'.format(lens)\n",
    "print(fitsfile)\n",
    "\n",
    "jsondir = 'jsons/'\n",
    "jsonfile = jsondir + '{}.json'.format(lens)\n",
    "print(jsonfile)\n"
   ]
  },
  {
   "cell_type": "code",
   "execution_count": 4,
   "metadata": {},
   "outputs": [
    {
     "name": "stdout",
     "output_type": "stream",
     "text": [
      "Properties of that field are unknown [None]\n",
      "filename            \tPG1115+080.json\n",
      "filepath            \t/Users/phdenzel/delays/jsons/PG1115+080.json\n",
      "band                \t\n",
      "naxis1              \t99\n",
      "naxis2              \t99\n",
      "naxis_plus          \tNone\n",
      "refval              \t[169.57094740092, 7.766067434866]\n",
      "refpx               \t[36.0, 41.0]\n",
      "center              \t<169.5705, 7.7664>\n",
      "px2deg              \t[3.562500079472802e-05, 3.5625000794728505e-05]\n",
      "px2arcsec           \t[0.12825000286102087, 0.12825000286102262]\n",
      "megacam_range       \tNone\n",
      "field               \tNone\n",
      "photzp              \tNone\n",
      "mag_formula         \t<function mag_formula at 0x7f8b5acce848>\n",
      "roi                 \tROISelector(99, 99)\n",
      "lens                \tNone\n",
      "srcimgs             \t[]\n",
      "zl                  \t0.5\n",
      "zs                  \t3.0\n",
      "mapr                \t6.3484\n",
      "tdelay              \tNone\n",
      "tderr               \tNone\n",
      "light_model         \t{}\n",
      "stel_mass           \tNone\n",
      "glscfactory         \tGLSCFactory(zl, srcimgs, parity, tderr...)\n",
      "finder              \tLensFinder(peaks(1/5):(4, 4)σ)\n"
     ]
    }
   ],
   "source": [
    "with open(jsonfile) as f:\n",
    "    lo = LensObject.from_json(f)\n",
    "lo.squarify(0)\n",
    "print(lo.__v__)\n"
   ]
  },
  {
   "cell_type": "code",
   "execution_count": 5,
   "metadata": {},
   "outputs": [
    {
     "name": "stdout",
     "output_type": "stream",
     "text": [
      "7quads_dg60.state\n"
     ]
    }
   ],
   "source": [
    "statedir = 'states/'\n",
    "statefiles = ['11doubles_dg45.state',\n",
    "              '11doubles_dg60.state', '11doubles_CMB_dg60.state', '11doubles_SNeIa_dg60.state',\n",
    "              '7quads_dg45.state', '7quads_CMB_dg45.state', '7quads_SNeIa_dg45.state',\n",
    "              '7quads_dg60.state', '7quads_CMB_dg60.state', '7quads_SNeIa_dg60.state', \n",
    "              'all_dg60.state', 'all_SNeIa_dg60.state']\n",
    "statefile = statefiles[7]  # 7  8/9 5/6\n",
    "print(statefile)\n"
   ]
  },
  {
   "cell_type": "code",
   "execution_count": 6,
   "metadata": {},
   "outputs": [
    {
     "name": "stdout",
     "output_type": "stream",
     "text": [
      "filename            \t7quads_dg60.state\n",
      "filepath            \tstates/7quads_dg60.state\n",
      "N                   \t1000\n",
      "pixrad              \t8\n",
      "maprad              \t1.67273244599\n",
      "pixel_size          \t0.0393584104938\n",
      "kappa               \tNone\n",
      "minima              \t[[ 0.11439883300091856  1.3727859960110342 ]\n",
      " [-0.7864919768813123  -0.872291101632015  ]]\n",
      "saddle_points       \t[[-1.058189205258495   -0.4289956237534523 ]\n",
      " [ 0.8579912475068856  -0.45759533200368047]]\n",
      "maxima              \t[]\n",
      "zl                  \t0.311\n",
      "zs                  \t1.735\n",
      "N_obj               \t8\n",
      "N_src               \t1\n",
      "obj_idx             \t3\n",
      "src_idx             \t0\n"
     ]
    }
   ],
   "source": [
    "lm = LensModel(statedir+statefile)\n",
    "lm.obj_idx = objidx\n",
    "print(lm.__v__)\n"
   ]
  },
  {
   "cell_type": "markdown",
   "metadata": {},
   "source": [
    "## Model plots"
   ]
  },
  {
   "cell_type": "markdown",
   "metadata": {},
   "source": [
    "### Kappa maps"
   ]
  },
  {
   "cell_type": "code",
   "execution_count": null,
   "metadata": {},
   "outputs": [],
   "source": [
    "#%%script false\n",
    "# for i in range(lm.N_obj):\n",
    "#     lm.obj_idx = i\n",
    "i = objidx\n",
    "kappa_map_plot(lm, obj_index=i, extent=lm.extent, contours=True, levels=7, delta=0.1, label=lm.obj_name)\n",
    "plot_scalebar(R=lm.maprad, length=max(int(lm.maprad/2), 1))\n",
    "plt.axis('off')\n",
    "plt.gcf().axes[0].get_xaxis().set_visible(False)\n",
    "plt.gcf().axes[0].get_yaxis().set_visible(False)\n",
    "plt.savefig('results/{}_{}_kappa.pdf'.format(lm.obj_name, lm.filename.replace('.state', '')), transparent=True, bbox_inches='tight', pad_inches=0)\n",
    "plt.close()\n",
    "plt.show()\n"
   ]
  },
  {
   "cell_type": "markdown",
   "metadata": {},
   "source": [
    "### Kappa profiles"
   ]
  },
  {
   "cell_type": "code",
   "execution_count": null,
   "metadata": {},
   "outputs": [],
   "source": [
    "#%%script false\n",
    "# for i in range(lm.N_obj):\n",
    "#     lm.obj_idx = i\n",
    "i = objidx\n",
    "kappa_profiles_plot(lm, obj_index=i, ensemble_average=True, refined=True, interpolate=150, levels=10,\n",
    "                    as_range=True, maprad=lm.maprad, pixrad=lm.pixrad,\n",
    "                    adjust_limits=True, annotation_color='white', label_axes=True, fontsize=22)\n",
    "plt.tight_layout()\n",
    "plt.savefig('results/{}_{}_profiles.pdf'.format(lm.obj_name, lm.filename.replace('.state', '')), transparent=True, bbox_inches='tight', pad_inches=0)\n",
    "# plt.close()\n",
    "plt.show()\n"
   ]
  },
  {
   "cell_type": "code",
   "execution_count": null,
   "metadata": {},
   "outputs": [],
   "source": [
    "%%script false\n",
    "fig, axes = plt.subplots(4, 2, sharex=False, sharey=True, figsize=(7, 11))\n",
    "for i in range(len(objs)):\n",
    "    lm.obj_idx = i\n",
    "    print(i)\n",
    "    yextent = [0.65, 3.00]\n",
    "    plt.sca(axes[i // 2][i % 2])\n",
    "    plots, _, _ = kappa_profiles_plot(lm, obj_index=i, ensemble_average=True, refined=True,\n",
    "                                      interpolate=150, levels=10, as_range=True, maprad=lm.maprad,\n",
    "                                      pixrad=lm.pixrad, adjust_limits=True, annotation_color='white',\n",
    "                                      einstein_radius_indicator=True, kappa1_line=True,\n",
    "                                      label_axes=False, fontsize=22)\n",
    "    xlim = list(plt.gca().axes.get_xlim())\n",
    "    plt.contourf(np.ones((4, 4))*plots[0].levels[0], extent=xlim+yextent,\n",
    "                 cmap='agaveglitch', levels=plots[0].levels, zorder=-99)\n",
    "    plot_labelbox(objs[i], position='top right', padding=(0.03, 0.04), color='white', fontsize=8)\n",
    "    plt.ylim(*yextent)\n",
    "    # plt.rcParams['mathtext.fontset'] = 'stixsans'\n",
    "    if (i % 2) == 0:\n",
    "        if (i // 2) == 2:\n",
    "            axes[i // 2][i % 2].set_ylabel(r'$\\mathsf{\\kappa}_{<\\mathsf{R}}$', fontsize=22)\n",
    "    if (i // 2) > 2:\n",
    "        if (i % 2) == 0:\n",
    "            axes[i // 2][i % 2].set_xlabel(r'R [arcsec]', fontsize=16)\n",
    "#     else:\n",
    "#         axes[i // 2][i % 2].set_xticklabels([\"\"]*len(axes[i // 2][i % 2].axes.get_xticklabels()))\n",
    "    axes[i // 2][i % 2].set_frame_on(True)\n",
    "\n",
    "axes[3][0].xaxis.set_label_coords(1, -0.175)\n",
    "axes[2][0].yaxis.set_label_coords(-0.1, 1)\n",
    "fig.subplots_adjust(wspace=0.025)\n",
    "# plt.savefig(\"profiles.pdf\", transparent=True, bbox_inches='tight', pad_inches=0)\n",
    "# plt.close()\n",
    "plt.show()"
   ]
  },
  {
   "cell_type": "markdown",
   "metadata": {},
   "source": [
    "### Arrvial time surfaces"
   ]
  },
  {
   "cell_type": "code",
   "execution_count": null,
   "metadata": {},
   "outputs": [],
   "source": [
    "#%%script false\n",
    "# for i in range(lm.N_obj):\n",
    "#     lm.obj_idx = i\n",
    "i = objidx\n",
    "arrival_time_surface_plot(lm, obj_index=i, draw_images=True,\n",
    "                          contours=True, levels=60, min_contour_shift=None,\n",
    "                          sad_contour_shift=None, scalebar=False, label=lm.obj_name, color='black')\n",
    "# plt.plot(0, 0, color=gcl.blue, marker='+', markersize=16)\n",
    "plot_scalebar(R=lm.maprad, length=max(int(lm.maprad/2), 1), color='black')\n",
    "plt.axis('off')\n",
    "plt.gcf().axes[0].get_xaxis().set_visible(False)\n",
    "plt.gcf().axes[0].get_yaxis().set_visible(False)\n",
    "plt.tight_layout()\n",
    "plt.savefig('results/{}_{}_arriv.pdf'.format(lm.obj_name, lm.filename.replace('.state', '')), transparent=True, bbox_inches='tight', pad_inches=0)\n",
    "# plt.close()\n",
    "plt.show()\n"
   ]
  },
  {
   "cell_type": "code",
   "execution_count": null,
   "metadata": {},
   "outputs": [],
   "source": [
    "%script false\n",
    "print(\"Loading files...\")\n",
    "\n",
    "lm_H0 = LensModel(statedir+statefiles[7])\n",
    "lm_H0.obj_idx = objidx\n",
    "lm.obj_idx = objidx\n",
    "\n",
    "print(\"Calculating arrival time grids...\")\n",
    "arriv = lm_H0.arrival_grid(model_index=-1)    # variable H0\n",
    "arriv_fixed = lm.arrival_grid(model_index=-1) # CMB/SNeIa\n"
   ]
  },
  {
   "cell_type": "code",
   "execution_count": null,
   "metadata": {},
   "outputs": [],
   "source": [
    "%%script false\n",
    "# lm.obj_idx = objidx\n",
    "# lm_H0.obj_idx = objidx\n",
    "# arriv = lm_H0.arrival_grid(model_index=-1)\n",
    "# arriv_fixed = lm.arrival_grid(model_index=-1)\n",
    "tsqr2days = 365.25/lm.env.nu[0] * lm.env.objects[objidx].dL * (1+lm.env.objects[objidx].z)\n",
    "print tsqr2days\n",
    "\n",
    "delta = (arriv - arriv_fixed) * tsqr2days\n",
    "print(delta.shape)\n",
    "rmsk = radial_mask(delta, radius=37.5)\n",
    "edge = np.abs(delta[rmsk].max())\n",
    "vmin = -edge\n",
    "vmax = edge\n",
    "plt.imshow(delta, cmap='twilight', extent=lm.extent, origin='upper', vmin=vmin, vmax=vmax)\n",
    "# plt.imshow(diffs, cmap='phoenix', extent=lm.extent, origin='upper', vmin=vmin, vmax=vmax)\n",
    "plot_scalebar(R=lm.maprad, length=max(int(lm.maprad/2), 1), color='white')\n",
    "plot_labelbox(objs[objidx], position='top right', padding=(0.03, 0.04), color='white', fontsize=14)\n",
    "cbar = plt.colorbar()\n",
    "cbar.ax.set_ylabel('[d]', rotation=0)\n",
    "plt.axis('off')\n",
    "plt.gcf().axes[0].get_xaxis().set_visible(False)\n",
    "plt.gcf().axes[0].get_yaxis().set_visible(False)\n",
    "plt.tight_layout()\n",
    "plt.show()"
   ]
  },
  {
   "cell_type": "code",
   "execution_count": null,
   "metadata": {},
   "outputs": [],
   "source": [
    "%%script false\n",
    "limits = []\n",
    "for i in range(len(objs)):\n",
    "    lm.obj_idx = i\n",
    "    lm_H0.obj_idx = i\n",
    "    arriv = lm_H0.arrival_grid(model_index=-1)    # variable H0\n",
    "    arriv_fixed = lm.arrival_grid(model_index=-1) # CMB/SNeIa\n",
    "\n",
    "    tsqr2days = 365.25/lm.env.nu[0] * lm.env.objects[objidx].dL * (1+lm.env.objects[objidx].z)\n",
    "    delta = (arriv - arriv_fixed) * tsqr2days\n",
    "    rmsk = radial_mask(delta, radius=42.5)\n",
    "    edge = np.abs(delta[rmsk]).max()\n",
    "    vmin, vmax = -edge, edge\n",
    "    cmapstr = 'twilight'\n",
    "    plt.imshow(delta, cmap=cmapstr, extent=lm.extent, origin='upper', vmin=vmin, vmax=vmax)\n",
    "\n",
    "    minima = lm.minima\n",
    "    saddles = lm.saddle_points\n",
    "    maxima = lm.maxima\n",
    "    cmap = plt.get_cmap(cmapstr)\n",
    "    min_clr, sad_clr, max_clr = cmap(.8), cmap(.5), cmap(.2)\n",
    "    if len(minima) > 0:\n",
    "        plt.plot(minima.T[0], minima.T[1], color=min_clr, marker='o', lw=0)\n",
    "    if len(saddles) > 0:\n",
    "        plt.plot(saddles.T[0], saddles.T[1], color=sad_clr, marker='o', lw=0)\n",
    "    if len(maxima) > 0:\n",
    "        plt.plot(maxima.T[0], maxima.T[1], color=max_clr, marker='o', lw=0)\n",
    "\n",
    "    plot_scalebar(R=lm.maprad, length=max(int(lm.maprad/2), 1), color='white')\n",
    "    plot_labelbox(objs[i], position='top right', padding=(0.03, 0.04), color='white', fontsize=14)\n",
    "    cbar = plt.colorbar()\n",
    "    cbar.ax.set_ylabel('[d]', rotation=0)\n",
    "    plt.axis('off')\n",
    "    plt.gcf().axes[0].get_xaxis().set_visible(False)\n",
    "    plt.gcf().axes[0].get_yaxis().set_visible(False)\n",
    "    plt.tight_layout()\n",
    "    plt.savefig('results/{}_{}_arrivdelta.pdf'.format(lm.obj_name, lm.filename.replace('.state', '')),\n",
    "                transparent=True, bbox_inches='tight', pad_inches=0)\n",
    "    plt.show()\n",
    "    plt.close()\n"
   ]
  }
 ],
 "metadata": {
  "kernelspec": {
   "display_name": "Python 2.7.15 64-bit",
   "language": "python",
   "name": "python271564bitd942312e7b7943e19baa3c7e3a3a5111"
  },
  "language_info": {
   "codemirror_mode": {
    "name": "ipython",
    "version": 2
   },
   "file_extension": ".py",
   "mimetype": "text/x-python",
   "name": "python",
   "nbconvert_exporter": "python",
   "pygments_lexer": "ipython2",
   "version": "2.7.15"
  }
 },
 "nbformat": 4,
 "nbformat_minor": 2
}
