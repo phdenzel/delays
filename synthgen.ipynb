{
 "cells": [
  {
   "cell_type": "markdown",
   "metadata": {},
   "source": [
    "# Inspect GLASS models and generate synthetic images"
   ]
  },
  {
   "cell_type": "markdown",
   "metadata": {},
   "source": [
    "## Imports"
   ]
  },
  {
   "cell_type": "code",
   "execution_count": null,
   "metadata": {},
   "outputs": [],
   "source": [
    "import sys\n",
    "import os\n",
    "import numpy as np\n",
    "import matplotlib as mpl\n",
    "import matplotlib.pyplot as plt\n",
    "root = \"/Users/phdenzel/gleam\"\n",
    "sys.path.append(root)\n",
    "import gleam\n",
    "from gleam.lensobject import LensObject\n",
    "from gleam.utils.lensing import LensModel\n",
    "from gleam.reconsrc import ReconSrc, run_model\n",
    "from gleam.utils.plotting import kappa_map_plot, kappa_profiles_plot\n",
    "from gleam.utils.plotting import arrival_time_surface_plot\n",
    "from gleam.utils.plotting import plot_scalebar, plot_labelbox\n",
    "from gleam.utils.rgb_map import radial_mask\n",
    "import gleam.utils.colors as gcl\n",
    "gcl.GLEAMcmaps.register_all()\n"
   ]
  },
  {
   "cell_type": "markdown",
   "metadata": {},
   "source": [
    "## Load data files"
   ]
  },
  {
   "cell_type": "code",
   "execution_count": null,
   "metadata": {},
   "outputs": [],
   "source": [
    "#        ACS          ACS(WFC3)        ACS(WFC3)      WFC3(UNK)\n",
    "#        ACS(WFC3)    SBC              WFC3           ACS(GAIA)\n",
    "objs = ['B1608+656', 'DESJ0408-5354', 'HE0435-1223', 'PG1115+080',\n",
    "        'RXJ0911+0551', 'RXJ1131-1231', 'SDSSJ1004+4112', 'WFIJ2033-4723']\n",
    "objidx = 0\n",
    "sigf = 80     #   80,  100,   60,  600,  140, 4000,   80,   80\n",
    "lens = objs[objidx]\n",
    "print(lens)\n"
   ]
  },
  {
   "cell_type": "code",
   "execution_count": null,
   "metadata": {},
   "outputs": [],
   "source": [
    "fitsdir = 'data/delay_qsos/'\n",
    "fitsfile = fitsdir + '{}.fits'.format(lens)\n",
    "print(fitsfile)\n",
    "\n",
    "jsondir = 'jsons/'\n",
    "jsonfile = jsondir + '{}.json'.format(lens)\n",
    "print(jsonfile)\n"
   ]
  },
  {
   "cell_type": "code",
   "execution_count": null,
   "metadata": {},
   "outputs": [],
   "source": [
    "with open(jsonfile) as f:\n",
    "    lo = LensObject.from_json(f)\n",
    "lo.squarify(0)\n",
    "print(lo.__v__)\n"
   ]
  },
  {
   "cell_type": "code",
   "execution_count": null,
   "metadata": {},
   "outputs": [],
   "source": [
    "statedir = 'states/'\n",
    "statefiles = ['11doubles_dg45.state',\n",
    "              '11doubles_dg60.state', '11doubles_CMB_dg60.state', '11doubles_SNeIa_dg60.state',\n",
    "              '7quads_dg45.state', '7quads_CMB_dg45.state', '7quads_SNeIa_dg45.state',\n",
    "              '7quads_dg60.state', '7quads_CMB_dg60.state', '7quads_SNeIa_dg60.state', \n",
    "              'all_dg60.state', 'all_SNeIa_dg60.state']\n",
    "statefile = statefiles[9]  # 7  8/9 5/6\n",
    "print(statefile)\n"
   ]
  },
  {
   "cell_type": "code",
   "execution_count": null,
   "metadata": {},
   "outputs": [],
   "source": [
    "lm = LensModel(statedir+statefile)\n",
    "lm.obj_idx = objidx\n",
    "print(lm.__v__)\n"
   ]
  },
  {
   "cell_type": "markdown",
   "metadata": {},
   "source": [
    "## Model plots"
   ]
  },
  {
   "cell_type": "markdown",
   "metadata": {},
   "source": [
    "### Kappa maps"
   ]
  },
  {
   "cell_type": "code",
   "execution_count": null,
   "metadata": {},
   "outputs": [],
   "source": [
    "#%%script false\n",
    "# for i in range(lm.N_obj):\n",
    "#     lm.obj_idx = i\n",
    "i = objidx\n",
    "kappa_map_plot(lm, obj_index=i, extent=lm.extent, contours=True, levels=7, delta=0.1, label=lm.obj_name)\n",
    "plot_scalebar(R=lm.maprad, length=max(int(lm.maprad/2), 1))\n",
    "plt.axis('off')\n",
    "plt.gcf().axes[0].get_xaxis().set_visible(False)\n",
    "plt.gcf().axes[0].get_yaxis().set_visible(False)\n",
    "plt.savefig('results/{}_{}_kappa.pdf'.format(lm.obj_name, lm.filename.replace('.state', '')), transparent=True, bbox_inches='tight', pad_inches=0)\n",
    "plt.close()\n",
    "plt.show()\n"
   ]
  },
  {
   "cell_type": "markdown",
   "metadata": {},
   "source": [
    "### Kappa profiles"
   ]
  },
  {
   "cell_type": "code",
   "execution_count": null,
   "metadata": {},
   "outputs": [],
   "source": [
    "#%%script false\n",
    "# for i in range(lm.N_obj):\n",
    "#     lm.obj_idx = i\n",
    "i = objidx\n",
    "kappa_profiles_plot(lm, obj_index=i, ensemble_average=True, refined=True, interpolate=150, levels=10,\n",
    "                    as_range=True, maprad=lm.maprad, pixrad=lm.pixrad,\n",
    "                    adjust_limits=True, annotation_color='white', label_axes=True, fontsize=22)\n",
    "plt.tight_layout()\n",
    "plt.savefig('results/{}_{}_profiles.pdf'.format(lm.obj_name, lm.filename.replace('.state', '')), transparent=True, bbox_inches='tight', pad_inches=0)\n",
    "# plt.close()\n",
    "plt.show()\n"
   ]
  },
  {
   "cell_type": "code",
   "execution_count": null,
   "metadata": {},
   "outputs": [],
   "source": [
    "%%script false\n",
    "fig, axes = plt.subplots(4, 2, sharex=False, sharey=True, figsize=(7, 11))\n",
    "for i in range(len(objs)):\n",
    "    lm.obj_idx = i\n",
    "    print(i)\n",
    "    yextent = [0.65, 3.00]\n",
    "    plt.sca(axes[i // 2][i % 2])\n",
    "    plots, _, _ = kappa_profiles_plot(lm, obj_index=i, ensemble_average=True, refined=True,\n",
    "                                      interpolate=150, levels=10, as_range=True, maprad=lm.maprad,\n",
    "                                      pixrad=lm.pixrad, adjust_limits=True, annotation_color='white',\n",
    "                                      einstein_radius_indicator=True, kappa1_line=True,\n",
    "                                      label_axes=False, fontsize=22)\n",
    "    xlim = list(plt.gca().axes.get_xlim())\n",
    "    plt.contourf(np.ones((4, 4))*plots[0].levels[0], extent=xlim+yextent,\n",
    "                 cmap='agaveglitch', levels=plots[0].levels, zorder=-99)\n",
    "    plot_labelbox(objs[i], position='top right', padding=(0.03, 0.04), color='white', fontsize=8)\n",
    "    plt.ylim(*yextent)\n",
    "    # plt.rcParams['mathtext.fontset'] = 'stixsans'\n",
    "    if (i % 2) == 0:\n",
    "        if (i // 2) == 2:\n",
    "            axes[i // 2][i % 2].set_ylabel(r'$\\mathsf{\\kappa}_{<\\mathsf{R}}$', fontsize=22)\n",
    "    if (i // 2) > 2:\n",
    "        if (i % 2) == 0:\n",
    "            axes[i // 2][i % 2].set_xlabel(r'R [arcsec]', fontsize=16)\n",
    "#     else:\n",
    "#         axes[i // 2][i % 2].set_xticklabels([\"\"]*len(axes[i // 2][i % 2].axes.get_xticklabels()))\n",
    "    axes[i // 2][i % 2].set_frame_on(True)\n",
    "\n",
    "axes[3][0].xaxis.set_label_coords(1, -0.175)\n",
    "axes[2][0].yaxis.set_label_coords(-0.1, 1)\n",
    "fig.subplots_adjust(wspace=0.025)\n",
    "# plt.savefig(\"profiles.pdf\", transparent=True, bbox_inches='tight', pad_inches=0)\n",
    "# plt.close()\n",
    "plt.show()"
   ]
  },
  {
   "cell_type": "markdown",
   "metadata": {},
   "source": [
    "### Arrvial time surfaces"
   ]
  },
  {
   "cell_type": "code",
   "execution_count": null,
   "metadata": {},
   "outputs": [],
   "source": [
    "#%%script false\n",
    "# for i in range(lm.N_obj):\n",
    "#     lm.obj_idx = i\n",
    "i = objidx\n",
    "arrival_time_surface_plot(lm, obj_index=i, draw_images=True,\n",
    "                          contours=True, levels=60, min_contour_shift=None,\n",
    "                          sad_contour_shift=None, scalebar=False, label=lm.obj_name, color='black')\n",
    "# plt.plot(0, 0, color=gcl.blue, marker='+', markersize=16)\n",
    "plot_scalebar(R=lm.maprad, length=max(int(lm.maprad/2), 1), color='black')\n",
    "plt.axis('off')\n",
    "plt.gcf().axes[0].get_xaxis().set_visible(False)\n",
    "plt.gcf().axes[0].get_yaxis().set_visible(False)\n",
    "plt.tight_layout()\n",
    "plt.savefig('results/{}_{}_arriv.pdf'.format(lm.obj_name, lm.filename.replace('.state', '')), transparent=True, bbox_inches='tight', pad_inches=0)\n",
    "# plt.close()\n",
    "plt.show()\n"
   ]
  },
  {
   "cell_type": "code",
   "execution_count": null,
   "metadata": {},
   "outputs": [],
   "source": [
    "%%script false\n",
    "print(\"Loading files...\")\n",
    "\n",
    "lm_H0 = LensModel(statedir+statefiles[7])\n",
    "lm_H0.obj_idx = objidx\n",
    "lm.obj_idx = objidx\n",
    "\n",
    "print(\"Calculating arrival time grids...\")\n",
    "arriv = lm_H0.arrival_grid(model_index=-1)    # variable H0\n",
    "arriv_fixed = lm.arrival_grid(model_index=-1) # CMB/SNeIa\n"
   ]
  },
  {
   "cell_type": "code",
   "execution_count": null,
   "metadata": {},
   "outputs": [],
   "source": [
    "%%script false\n",
    "# lm.obj_idx = objidx\n",
    "# lm_H0.obj_idx = objidx\n",
    "# arriv = lm_H0.arrival_grid(model_index=-1)\n",
    "# arriv_fixed = lm.arrival_grid(model_index=-1)\n",
    "tsqr2days = 365.25/lm.env.nu[0] * lm.env.objects[objidx].dL * (1+lm.env.objects[objidx].z)\n",
    "print tsqr2days\n",
    "\n",
    "delta = (arriv - arriv_fixed) * tsqr2days\n",
    "print(delta.shape)\n",
    "rmsk = radial_mask(delta, radius=37.5)\n",
    "edge = np.abs(delta[rmsk].max())\n",
    "vmin = -edge\n",
    "vmax = edge\n",
    "plt.imshow(delta, cmap='twilight', extent=lm.extent, origin='upper', vmin=vmin, vmax=vmax)\n",
    "# plt.imshow(diffs, cmap='phoenix', extent=lm.extent, origin='upper', vmin=vmin, vmax=vmax)\n",
    "plot_scalebar(R=lm.maprad, length=max(int(lm.maprad/2), 1), color='white')\n",
    "plot_labelbox(objs[objidx], position='top right', padding=(0.03, 0.04), color='white', fontsize=14)\n",
    "cbar = plt.colorbar()\n",
    "cbar.ax.set_ylabel('[d]', rotation=0)\n",
    "plt.axis('off')\n",
    "plt.gcf().axes[0].get_xaxis().set_visible(False)\n",
    "plt.gcf().axes[0].get_yaxis().set_visible(False)\n",
    "plt.tight_layout()\n",
    "plt.show()"
   ]
  },
  {
   "cell_type": "code",
   "execution_count": null,
   "metadata": {},
   "outputs": [],
   "source": [
    "%%script false\n",
    "limits = []\n",
    "for i in range(len(objs)):\n",
    "    lm.obj_idx = i\n",
    "    lm_H0.obj_idx = i\n",
    "    arriv = lm_H0.arrival_grid(model_index=-1)    # variable H0\n",
    "    arriv_fixed = lm.arrival_grid(model_index=-1) # CMB/SNeIa\n",
    "\n",
    "    tsqr2days = 365.25/lm.env.nu[0] * lm.env.objects[objidx].dL * (1+lm.env.objects[objidx].z)\n",
    "    delta = (arriv - arriv_fixed) * tsqr2days\n",
    "    rmsk = radial_mask(delta, radius=42.5)\n",
    "    edge = np.abs(delta[rmsk]).max()\n",
    "    vmin, vmax = -edge, edge\n",
    "    cmapstr = 'twilight'\n",
    "    plt.imshow(delta, cmap=cmapstr, extent=lm.extent, origin='upper', vmin=vmin, vmax=vmax)\n",
    "\n",
    "    minima = lm.minima\n",
    "    saddles = lm.saddle_points\n",
    "    maxima = lm.maxima\n",
    "    cmap = plt.get_cmap(cmapstr)\n",
    "    min_clr, sad_clr, max_clr = cmap(.8), cmap(.5), cmap(.2)\n",
    "    if len(minima) > 0:\n",
    "        plt.plot(minima.T[0], minima.T[1], color=min_clr, marker='o', lw=0)\n",
    "    if len(saddles) > 0:\n",
    "        plt.plot(saddles.T[0], saddles.T[1], color=sad_clr, marker='o', lw=0)\n",
    "    if len(maxima) > 0:\n",
    "        plt.plot(maxima.T[0], maxima.T[1], color=max_clr, marker='o', lw=0)\n",
    "\n",
    "    plot_scalebar(R=lm.maprad, length=max(int(lm.maprad/2), 1), color='white')\n",
    "    plot_labelbox(objs[i], position='top right', padding=(0.03, 0.04), color='white', fontsize=14)\n",
    "    cbar = plt.colorbar()\n",
    "    cbar.ax.set_ylabel('[d]', rotation=0)\n",
    "    plt.axis('off')\n",
    "    plt.gcf().axes[0].get_xaxis().set_visible(False)\n",
    "    plt.gcf().axes[0].get_yaxis().set_visible(False)\n",
    "    plt.tight_layout()\n",
    "    plt.savefig('results/{}_{}_arrivdelta.pdf'.format(lm.obj_name, lm.filename.replace('.state', '')),\n",
    "                transparent=True, bbox_inches='tight', pad_inches=0)\n",
    "    plt.show()\n",
    "    plt.close()\n"
   ]
  },
  {
   "cell_type": "markdown",
   "metadata": {},
   "source": [
    "### Hubble constant"
   ]
  },
  {
   "cell_type": "code",
   "execution_count": null,
   "metadata": {},
   "outputs": [],
   "source": [
    "def H02aHz(H0arr):\n",
    "    H0arr = np.asarray(H0arr)  # assume in units of km/s/Mpc\n",
    "    H0 = H0arr.copy()\n",
    "    H0 /= 3.08567758e1         # aHz=1e-18 sec\n",
    "    return H0\n",
    "\n",
    "def aHz2H0(vH0):\n",
    "    vH0 *= 3.08567758e1\n",
    "    return vH0\n",
    "\n",
    "def H02Gyrs(H0arr):\n",
    "    H0arr = np.asarray(H0arr)    # assume in units of km/s/Mpc\n",
    "    invH0 = 1./H0arr.copy()      # s Mpc/km\n",
    "    invH0 *= 3.08567758e3/np.pi  # Gyrs (Mpc=3.08567758e22 m; Gyr=pi*1e16 sec; km=1e3 m)\n",
    "    return invH0\n",
    "\n",
    "def H02critdens(H0arr):\n",
    "    c = 299792458.0            # m s^-1\n",
    "    G = 6.67430e-11            # kg^-1 m^3 s^-2\n",
    "    GeV = 1.602176634e-10      # J/GeV\n",
    "    H0arr = np.asarray(H0arr)  # assume in units of km/s/Mpc\n",
    "    H02 = H0arr.copy()**2\n",
    "    H02 /= 3.08567758e19*3.08567758e19  # s^-2\n",
    "    c2_8piG = 3*c**2/(8*np.pi*G) # kg m^2 m^-3\n",
    "    rhocrit = H02 * c2_8piG    # J / m^3\n",
    "    rhocrit /= 1.602176634e-10 # GeV / m^3\n",
    "    return rhocrit\n",
    "\n",
    "\n",
    "aHzH0 = H02aHz(lm.H0)\n",
    "print(aHzH0[0])\n",
    "\n",
    "invH0 = H02Gyrs(lm.H0)\n",
    "print(invH0[0])\n",
    "\n",
    "rhocrit = H02critdens(lm.H0)\n",
    "print(rhocrit[0])\n"
   ]
  },
  {
   "cell_type": "code",
   "execution_count": null,
   "metadata": {},
   "outputs": [],
   "source": [
    "#%%script false\n",
    "q = np.percentile(aHzH0, [16, 50, 84])\n",
    "\n",
    "fig, ax = plt.subplots()\n",
    "axc = ax.twiny()\n",
    "\n",
    "# second unit axis\n",
    "def convertaxc(ax):\n",
    "    x1, x2 = ax.get_xlim()\n",
    "    axc.set_xlim(aHz2H0(x1), aHz2H0(x2))\n",
    "    axc.figure.canvas.draw()\n",
    "ax.callbacks.connect(\"xlim_changed\", convertaxc)\n",
    "\n",
    "n, bins, patches = ax.hist(aHzH0, bins=30, density=True, rwidth=0.901)\n",
    "cm = plt.cm.get_cmap('phoenix')\n",
    "ax.axvline(q[1], color=gcl.pink)\n",
    "ax.axvline(q[0], color=gcl.red)\n",
    "ax.axvline(q[2], color=gcl.red)\n",
    "\n",
    "# add gaussian color scheme to pdf\n",
    "bin_centers = 0.5 * (bins[:-1] + bins[1:])\n",
    "x = np.exp(-(bin_centers - q[1])**2/np.mean(np.diff(q))**2)\n",
    "x = x/x.max()\n",
    "for c, p in zip(x, patches):\n",
    "    plt.setp(p, 'facecolor', cm(c))\n",
    "# add result text\n",
    "plt.rcParams['mathtext.fontset'] = 'stixsans'\n",
    "Hstr = 'H$_0$ = ${:5.1f}^{{{:+4.1f}}}_{{{:+4.1f}}}$'\n",
    "q = np.percentile(lm.H0, [16, 50, 84])\n",
    "plt.text(0.02, 0.85, Hstr.format(q[1], np.diff(q)[1], -np.diff(q)[0]), fontsize=19, color='black', transform=plt.gca().transAxes)\n",
    "\n",
    "fig.axes[0].get_yaxis().set_visible(False)\n",
    "ax.set_xlabel('H$_0$ [aHz]')\n",
    "axc.set_xlabel('H$_0$ [km/s/Mpc]', fontsize=12)\n",
    "plt.setp(axc.get_xticklabels(), fontsize=12)\n",
    "plt.tight_layout()\n",
    "# plt.savefig('results/_H0hist_{}.pdf'.format(statefile.replace('.state', '')), transparent=True, bbox_inches='tight', pad_inches=0)\n",
    "# plt.close()\n",
    "plt.show()\n"
   ]
  },
  {
   "cell_type": "code",
   "execution_count": null,
   "metadata": {},
   "outputs": [],
   "source": [
    "#%%script false\n",
    "q = np.percentile(invH0, [16, 50, 84])\n",
    "n, bins, patches = plt.hist(invH0, bins=30, density=True, rwidth=0.901)\n",
    "cm = plt.cm.get_cmap('phoenix')\n",
    "plt.axvline(q[1], color=gcl.pink)\n",
    "plt.axvline(q[0], color=gcl.red)\n",
    "plt.axvline(q[2], color=gcl.red)\n",
    "\n",
    "# add gaussian color scheme to pdf\n",
    "bin_centers = 0.5 * (bins[:-1] + bins[1:])\n",
    "x = np.exp(-(bin_centers - q[1])**2/np.mean(np.diff(q))**2)\n",
    "x = x/x.max()\n",
    "for c, p in zip(x, patches):\n",
    "    plt.setp(p, 'facecolor', cm(c))\n",
    "plt.rcParams['mathtext.fontset'] = 'stixsans'\n",
    "Hstr = 'H$_0^{{-1}}$ = ${:5.1f}^{{{:+4.1f}}}_{{{:+4.1f}}}$'\n",
    "plt.text(0.62, 0.85, Hstr.format(q[1], np.diff(q)[1], -np.diff(q)[0]), fontsize=19, color='black', transform=plt.gca().transAxes)\n",
    "\n",
    "plt.gcf().axes[0].get_yaxis().set_visible(False)\n",
    "plt.xlabel('H$_0^{-1}$ [Gyr]')\n",
    "plt.tight_layout()\n",
    "# plt.savefig('results/_invH0hist_{}.pdf'.format(statefile.replace('.state', '')), transparent=True, bbox_inches='tight', pad_inches=0)\n",
    "# plt.close()\n",
    "plt.show()"
   ]
  },
  {
   "cell_type": "code",
   "execution_count": null,
   "metadata": {},
   "outputs": [],
   "source": [
    "#%%script false\n",
    "q = np.percentile(rhocrit, [16, 50, 84])\n",
    "n, bins, patches = plt.hist(rhocrit, bins=30, density=True, rwidth=0.901)\n",
    "cm = plt.cm.get_cmap('phoenix')\n",
    "plt.axvline(q[1], color=gcl.pink)\n",
    "plt.axvline(q[0], color=gcl.red)\n",
    "plt.axvline(q[2], color=gcl.red)\n",
    "\n",
    "# add gaussian color scheme to pdf\n",
    "bin_centers = 0.5 * (bins[:-1] + bins[1:])\n",
    "x = np.exp(-(bin_centers - q[1])**2/np.mean(np.diff(q))**2)\n",
    "x = x/x.max()\n",
    "for c, p in zip(x, patches):\n",
    "    plt.setp(p, 'facecolor', cm(c))\n",
    "plt.rcParams['mathtext.fontset'] = 'stixsans'\n",
    "Hstr = r\"$\\rho_{{\\mathrm{{c}}}}$ = ${:5.1f}^{{{:+4.1f}}}_{{{:+4.1f}}}$\"\n",
    "plt.text(0.02, 0.85, Hstr.format(q[1], np.diff(q)[1], -np.diff(q)[0]), fontsize=19, color='black', transform=plt.gca().transAxes)\n",
    "\n",
    "plt.gcf().axes[0].get_yaxis().set_visible(False)\n",
    "plt.xlabel(r\"$\\rho_{\\mathrm{c}}$ [GeV/m$^{{3}}$]\")\n",
    "plt.tight_layout()\n",
    "# plt.savefig('results/_H02denshist_{}.pdf'.format(statefile.replace('.state', '')), transparent=True, bbox_inches='tight', pad_inches=0)\n",
    "# plt.close()\n",
    "plt.show()\n"
   ]
  },
  {
   "cell_type": "markdown",
   "metadata": {},
   "source": [
    "## Source reconstruction"
   ]
  },
  {
   "cell_type": "code",
   "execution_count": null,
   "metadata": {},
   "outputs": [],
   "source": [
    "# lo.data = np.fliplr(lo.data)\n",
    "reconsrc = ReconSrc(lo, lm, M=60, M_fullres=400, mask_keys=['circle'])\n",
    "reconsrc.chmdl(-1)\n",
    "sig2 = sigf * np.abs(reconsrc.lensobject.data)\n",
    "sig2[sig2 == 0] = sig2[sig2 != 0].min()\n",
    "\n",
    "print reconsrc.lensobject.data.shape\n"
   ]
  },
  {
   "cell_type": "code",
   "execution_count": null,
   "metadata": {},
   "outputs": [],
   "source": [
    "reconsrc.calc_psf(\"psf/tinytim_ACS.fits\", normalize=True, window_size=8, verbose=True)\n",
    "# reconsrc.calc_psf(\"psf/tinytim_SBC.fits\", normalize=True, window_size=8, verbose=True)\n",
    "# reconsrc.calc_psf(\"psf/tinytim_WFC3.fits\", normalize=True, window_size=8, verbose=True)\n",
    "# reconsrc.calc_psf(\"psf/tinytim_WFC3.fits\", normalize=True, window_size=4, verbose=True)\n"
   ]
  },
  {
   "cell_type": "code",
   "execution_count": null,
   "metadata": {},
   "outputs": [],
   "source": [
    "# reconsrc.rotation = 0.95*reconsrc.lensobject.hdr['ORIENTAT']\n",
    "# reconsrc.rotation = -4.0  # reconsrc.lensobject.hdr['ORIENTAT']\n",
    "# reconsrc.rotation = -4.5  # reconsrc.lensobject.hdr['ORIENTAT']\n"
   ]
  },
  {
   "cell_type": "code",
   "execution_count": null,
   "metadata": {},
   "outputs": [],
   "source": [
    "kw = dict(method='minres', use_psf=True, use_mask=True, use_filter=False, sigma2=sig2.copy(), # nonzero_only=True, within_radius=0.8\n",
    "          cached=True, from_cache=False, save_to_cache=False)\n",
    "          # cached=True, from_cache=True, save_to_cache=True)\n"
   ]
  },
  {
   "cell_type": "code",
   "execution_count": null,
   "metadata": {},
   "outputs": [],
   "source": [
    "%%script false\n",
    "dbeta, xy, r_max, r_fullres = reconsrc.inv_proj_matrix(use_mask=True, return_props=True)\n",
    "\n",
    "plt.hist2d(xy[:, 0], xy[:, 1])\n",
    "plt.show()\n"
   ]
  },
  {
   "cell_type": "code",
   "execution_count": null,
   "metadata": {},
   "outputs": [],
   "source": [
    "%%script false\n",
    "from __future__ import print_function\n",
    "qs = []\n",
    "for i in range(-1, reconsrc.model.N):\n",
    "    reconsrc.chmdl(i)\n",
    "    reconsrc.inv_proj_matrix(use_mask=True, r_max=2)\n",
    "    chi2 = reconsrc.reproj_chi2(reduced=False, **kw)\n",
    "    qs.append(chi2)\n",
    "    message = \"{:8.4f} @ {:04d}\".format(chi2, i)\n",
    "    print(message, end=\"\\r\")\n"
   ]
  },
  {
   "cell_type": "code",
   "execution_count": null,
   "metadata": {},
   "outputs": [],
   "source": [
    "%%script false\n",
    "np.savetxt(\"{}_{}_chi2.txt\".format(lm.filename.replace('.state', ''), lens), qs)"
   ]
  },
  {
   "cell_type": "code",
   "execution_count": null,
   "metadata": {},
   "outputs": [],
   "source": [
    "%%script false\n",
    "#qs = np.loadtxt(\"results/7quads_CMB_dg60_B1608+656_chi2.txt\")\n",
    "qs = np.loadtxt(\"results/7quads_SNeIa_dg60_DESJ0408-5354_chi2.txt\")"
   ]
  },
  {
   "cell_type": "code",
   "execution_count": null,
   "metadata": {},
   "outputs": [],
   "source": [
    "%%script false\n",
    "sorted_qidxs = np.argsort(qs)\n",
    "print(sorted_qidxs[:10])\n",
    "print([qs[i] for i in sorted_qidxs[:10]])\n"
   ]
  },
  {
   "cell_type": "code",
   "execution_count": null,
   "metadata": {},
   "outputs": [],
   "source": [
    "# %%script false\n",
    "reconsrc.chmdl(-1)\n",
    "# reconsrc.chmdl(sorted_qidxs[0])\n",
    "# reconsrc.chmdl(sorted_qidxs[1])\n",
    "# reconsrc.chmdl(sorted_qidxs[3])\n",
    "\n",
    "Mij = reconsrc.inv_proj_matrix(use_mask=True, r_max=2)\n",
    "# Mij = reconsrc.inv_proj_matrix(use_mask=True)\n",
    "# Mij = reconsrc.inv_proj_matrix(use_mask=False, r_max=10)\n",
    "# Mij = reconsrc.inv_proj_matrix(use_mask=True, r_max=1.5)"
   ]
  },
  {
   "cell_type": "code",
   "execution_count": null,
   "metadata": {},
   "outputs": [],
   "source": [
    "dij = reconsrc.lens_map(mask=True)\n",
    "print(\"Calculating source plane...\")\n",
    "srcplane = reconsrc.d_p(method=kw['method'], flat=False, iter_lim=10000,\n",
    "                        use_psf=kw['use_psf'], use_mask=kw['use_mask'], use_filter=kw['use_filter'],\n",
    "                        sigma2=kw['sigma2'], cached=kw['cached'])\n",
    "print(\"Calculating synthetic...\")\n",
    "synth = reconsrc.reproj_map(**kw)\n",
    "# print(\"Calculating residuals...\")\n",
    "# resids = reconsrc.residual_map(**kw)\n",
    "# print(\"Calculating chi2...\")\n",
    "# chi2 = reconsrc.reproj_chi2(reduced=False, **kw)\n",
    "print(reconsrc.__v__)\n"
   ]
  },
  {
   "cell_type": "code",
   "execution_count": null,
   "metadata": {},
   "outputs": [],
   "source": [
    "print(\"dij:      \\t{}\".format(dij.shape))\n",
    "print(\"Mij:      \\t{}\".format(Mij.shape))\n",
    "print(\"dp:       \\t{}\".format(srcplane.shape))\n",
    "# print \"chi2:     \\t{:6.4f}\".format(chi2)\n",
    "print(\"r_max:    \\t{:6.4f}\".format(reconsrc.r_max))\n",
    "print(\"r_fullres \\t{:6.4f}\".format(reconsrc.r_fullres))\n",
    "print(\"src pxl:  \\t{:6.4f}\".format(reconsrc.src_pxscale))\n",
    "print(\"maprad    \\t{:6.4f}\".format(reconsrc.lensobject.mapr))\n",
    "print(\"lens pxl: \\t{:6.4f}\".format(reconsrc.lensobject.px2arcsec[0]))\n",
    "sbf = (reconsrc.lensobject.px2arcsec[0]/reconsrc.src_pxscale)**2\n",
    "print(\"SB scale factor: {:7.4f}\".format(sbf))\n"
   ]
  },
  {
   "cell_type": "code",
   "execution_count": null,
   "metadata": {},
   "outputs": [],
   "source": [
    "# Test flat dij with mask\n",
    "flat_dij = reconsrc.d_ij(mask=True)\n",
    "print(flat_dij.shape)\n",
    "flat_dij = flat_dij.reshape(int(np.sqrt(flat_dij.shape[0])), int(np.sqrt(flat_dij.shape[0])))\n",
    "print(flat_dij.shape)"
   ]
  },
  {
   "cell_type": "code",
   "execution_count": null,
   "metadata": {},
   "outputs": [],
   "source": [
    "plt_kw = dict(origin='lower', cmap='gravic', interpolation='bicubic', vmin=0)\n",
    "lvmax = 0.2500 * np.max(dij)      # 0.2500, 0.0075, 0.0075, 0.0750, 0.0750, 0.0100, 0.0100,  0.1000\n",
    "svmax = sbf/1  * lvmax            # /4,     /1,     /1,     /16     /sbf    /2      **(-1)   /16\n",
    "\n",
    "print(\"lvmax: {}\".format(lvmax))\n",
    "print(\"svmax: {}\".format(svmax))"
   ]
  },
  {
   "cell_type": "code",
   "execution_count": null,
   "metadata": {},
   "outputs": [],
   "source": [
    "plt.imshow(dij, extent=reconsrc.extent, vmax=lvmax, **plt_kw)\n",
    "# # labels and annotations\n",
    "plot_scalebar(R=reconsrc.lensobject.mapr, length=1)\n",
    "plot_labelbox(lens, position='top left')\n",
    "\n",
    "# # force mask\n",
    "# m = reconsrc.image_mask()\n",
    "# m = reconsrc.mask\n",
    "# msk = np.zeros(m.shape + (4,))\n",
    "# msk[:, :, 3] = m\n",
    "# plt.imshow(msk, origin='lower', extent=lo.extent)\n",
    "\n",
    "# mask cross\n",
    "c = reconsrc.lensobject.roi.buffer.center\n",
    "c = (c - reconsrc.lensobject.center.xy) * reconsrc.lensobject.px2arcsec[0]\n",
    "plt.plot(*c, marker='+', markersize=10, color='grey')\n",
    "\n",
    "plt.axis('off')\n",
    "plt.gcf().axes[0].get_xaxis().set_visible(False)\n",
    "plt.gcf().axes[0].get_yaxis().set_visible(False)\n",
    "plt.tight_layout()\n",
    "plt.savefig(\"results/{}_data.pdf\".format(lens), transparent=True, bbox_inches='tight', pad_inches=0)\n",
    "plt.show()\n"
   ]
  },
  {
   "cell_type": "markdown",
   "metadata": {},
   "source": [
    "### Source plane"
   ]
  },
  {
   "cell_type": "code",
   "execution_count": null,
   "metadata": {},
   "outputs": [],
   "source": [
    "plt.imshow(srcplane, extent=reconsrc.src_extent, vmax=1*svmax,\n",
    "           **plt_kw)\n",
    "\n",
    "# labels and annotations\n",
    "plot_scalebar(R=reconsrc.r_max, length=1)\n",
    "plot_labelbox(lens, position='top left')\n",
    "\n",
    "plt.axis('off')\n",
    "plt.gcf().axes[0].get_xaxis().set_visible(False)\n",
    "plt.gcf().axes[0].get_yaxis().set_visible(False)\n",
    "plt.tight_layout()\n",
    "plt.savefig(\"results/{}_{}_src.pdf\".format(lens, lm.filename.replace('.state', '')), transparent=True, bbox_inches='tight', pad_inches=0)\n",
    "plt.show()\n"
   ]
  },
  {
   "cell_type": "markdown",
   "metadata": {},
   "source": [
    "### Synthetic image"
   ]
  },
  {
   "cell_type": "code",
   "execution_count": null,
   "metadata": {},
   "outputs": [],
   "source": [
    "plt.imshow(synth, extent=reconsrc.extent, vmax=0.75*lvmax, **plt_kw)\n",
    "\n",
    "# labels and annotations\n",
    "plot_scalebar(R=reconsrc.lensobject.mapr, length=1)\n",
    "plot_labelbox(lens, position='top left')\n",
    "\n",
    "# # force mask\n",
    "# m = reconsrc.image_mask()\n",
    "# m = reconsrc.mask\n",
    "# msk = np.zeros(m.shape + (4,))\n",
    "# msk[:, :, 3] = m\n",
    "# plt.imshow(msk, origin='lower', extent=lo.extent)\n",
    "\n",
    "# mask cross\n",
    "c = reconsrc.lensobject.roi.buffer.center\n",
    "c = (c - reconsrc.lensobject.center.xy) * reconsrc.lensobject.px2arcsec[0]\n",
    "plt.plot(*c, marker='+', markersize=10, color='grey')\n",
    "\n",
    "plt.axis('off')\n",
    "plt.gcf().axes[0].get_xaxis().set_visible(False)\n",
    "plt.gcf().axes[0].get_yaxis().set_visible(False)\n",
    "plt.tight_layout()\n",
    "plt.savefig(\"results/{}_{}_best_synth.pdf\".format(lens, lm.filename.replace('.state', '')), transparent=True, bbox_inches='tight', pad_inches=0)\n",
    "plt.show()\n"
   ]
  },
  {
   "cell_type": "markdown",
   "metadata": {},
   "source": [
    "### Residual image"
   ]
  },
  {
   "cell_type": "code",
   "execution_count": null,
   "metadata": {},
   "outputs": [],
   "source": [
    "kwp = plt_kw.copy()\n",
    "kwp.pop('cmap')\n",
    "kwp.pop('vmin')\n",
    "# rmap = resids\n",
    "\n",
    "f1, f2 = 1, 1\n",
    "rmap = (f1*dij/dij.max() - f2*synth/synth.max())**2\n",
    "rmap[rmap == 0] = rmap[rmap != 0].min()\n",
    "rmap[rmap < 1e-4] = 1e-4\n",
    "# print dij.min(), dij.max(), synth.min(), synth.max()\n",
    "# print rmap\n",
    "\n",
    "\n",
    "plt.imshow(rmap, extent=reconsrc.extent, cmap='gravic',\n",
    "           norm=mpl.colors.LogNorm(vmin=1e-4, vmax=1e0), **kwp)\n",
    "\n",
    "# labels and annotations\n",
    "plot_scalebar(R=reconsrc.lensobject.mapr, length=1)\n",
    "plot_labelbox(lens, position='top left')\n",
    "plt.colorbar()\n",
    "\n",
    "# force mask\n",
    "# m = reconsrc.image_mask()\n",
    "m = reconsrc.mask\n",
    "msk = np.zeros(m.shape + (4,))\n",
    "msk[:, :, 3] = m\n",
    "plt.imshow(msk, origin='lower', extent=lo.extent)\n",
    "\n",
    "# mask cross\n",
    "c = reconsrc.lensobject.roi.buffer.center\n",
    "c = (c - reconsrc.lensobject.center.xy) * reconsrc.lensobject.px2arcsec[0]\n",
    "plt.plot(*c, marker='+', markersize=10, color='grey')\n",
    "\n",
    "plt.axis('off')\n",
    "plt.gcf().axes[0].get_xaxis().set_visible(False)\n",
    "plt.gcf().axes[0].get_yaxis().set_visible(False)\n",
    "plt.tight_layout()\n",
    "plt.savefig(\"results/{}_{}_resids.pdf\".format(lens, lm.filename.replace('.state', '')), transparent=True, bbox_inches='tight')\n",
    "plt.show()"
   ]
  },
  {
   "cell_type": "code",
   "execution_count": null,
   "metadata": {},
   "outputs": [],
   "source": []
  }
 ],
 "metadata": {
  "language_info": {
   "codemirror_mode": {
    "name": "ipython",
    "version": 2
   },
   "file_extension": ".py",
   "mimetype": "text/x-python",
   "name": "python",
   "nbconvert_exporter": "python",
   "pygments_lexer": "ipython2",
   "version": "2.7.15-final"
  },
  "orig_nbformat": 2,
  "kernelspec": {
   "name": "python271564bitd942312e7b7943e19baa3c7e3a3a5111",
   "display_name": "Python 2.7.15 64-bit"
  }
 },
 "nbformat": 4,
 "nbformat_minor": 2
}