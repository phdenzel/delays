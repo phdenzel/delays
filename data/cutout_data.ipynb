{
 "cells": [
  {
   "cell_type": "markdown",
   "metadata": {},
   "source": [
    "# Cutout data from fits files"
   ]
  },
  {
   "cell_type": "markdown",
   "metadata": {},
   "source": [
    "## Imports"
   ]
  },
  {
   "cell_type": "code",
   "execution_count": null,
   "metadata": {},
   "outputs": [],
   "source": [
    "import sys\n",
    "import os\n",
    "import pprint\n",
    "import numpy as np\n",
    "import matplotlib.pyplot as plt\n",
    "\n",
    "from astropy.io import fits\n",
    "from astropy.wcs import WCS\n",
    "from astropy.nddata import Cutout2D\n",
    "\n",
    "root = \"/Users/phdenzel/gleam\"\n",
    "sys.path.append(root)\n",
    "import gleam\n",
    "from gleam.lensobject import LensObject\n",
    "from gleam.multilens import MultiLens\n",
    "from gleam.utils.plotting import IPColorbar, IPPointCache\n",
    "from gleam.utils.plotting import plot_scalebar, plot_labelbox\n",
    "import gleam.utils.colors as gcl\n",
    "gcl.GLEAMcmaps.register_all()"
   ]
  },
  {
   "cell_type": "markdown",
   "metadata": {},
   "source": [
    "## Main"
   ]
  },
  {
   "cell_type": "markdown",
   "metadata": {},
   "source": [
    "### Search for a fits file"
   ]
  },
  {
   "cell_type": "code",
   "execution_count": null,
   "metadata": {},
   "outputs": [],
   "source": [
    "directories = !ls -d lensedquasars/*/\n",
    "pprint.pprint(list(enumerate(directories)))"
   ]
  },
  {
   "cell_type": "code",
   "execution_count": null,
   "metadata": {},
   "outputs": [],
   "source": [
    "files = !ls -d {directories[41]}*\n",
    "# files = !ls lensedquasars/DESJ0408-5354_field.fits\n",
    "files"
   ]
  },
  {
   "cell_type": "code",
   "execution_count": null,
   "metadata": {},
   "outputs": [],
   "source": [
    "idx = 0\n",
    "filename = os.path.basename(files[idx])\n",
    "filepath = files[idx]\n",
    "print(filepath)"
   ]
  },
  {
   "cell_type": "markdown",
   "metadata": {},
   "source": [
    "### Read fits file and extract data"
   ]
  },
  {
   "cell_type": "code",
   "execution_count": null,
   "metadata": {},
   "outputs": [],
   "source": [
    "hdu = fits.open(filepath)\n",
    "for h in hdu:\n",
    "    if isinstance(h, fits.hdu.image.ImageHDU):\n",
    "        hdu = h\n",
    "        break\n",
    "if isinstance(hdu, list):\n",
    "    hdu = hdu[0]\n",
    "print(hdu)\n",
    "print(hdu.data.shape)\n",
    "print(repr(hdu.header))\n",
    "\n",
    "position = [p//2 for p in hdu.data.shape]\n",
    "\n",
    "print(hdu.data.shape, position)\n",
    "# print(repr(hhdu.header))"
   ]
  },
  {
   "cell_type": "code",
   "execution_count": null,
   "metadata": {},
   "outputs": [],
   "source": [
    "lo = LensObject(filepath, auto=False, glscfactory_options={})\n",
    "print(lo.__v__)"
   ]
  },
  {
   "cell_type": "markdown",
   "metadata": {},
   "source": [
    "### Plot the data"
   ]
  },
  {
   "cell_type": "code",
   "execution_count": null,
   "metadata": {},
   "outputs": [],
   "source": [
    "%matplotlib notebook\n",
    "\n",
    "fig, ax = plt.subplots()\n",
    "fig, ax, plt_out = lo.plot_f(fig, ax=ax, cmap=gcl.GLEAMcmaps.vilux, colorbar=True,\n",
    "                             scalebar=False,\n",
    "                             vmin=0, vmax=0.5*np.max(lo.data), source_images=False,\n",
    "                             deconv=False, psf=np.ones((3, 3))/25.)\n",
    "clrbar = IPColorbar(plt_out[1], plt_out[0])\n",
    "clrbar.connect()\n",
    "cache = IPPointCache(plt_out[0], use_modes=[])\n",
    "cid = cache.connect()"
   ]
  },
  {
   "cell_type": "code",
   "execution_count": null,
   "metadata": {},
   "outputs": [],
   "source": [
    "%%script false\n",
    "%matplotlib notebook\n",
    "\n",
    "fig, ax = plt.subplots()\n",
    "fig, ax, plt_out = lo.plot_f(fig, ax=ax, cmap=gcl.GLEAMcmaps.vilux, colorbar=False,\n",
    "                             scalebar=False, extent=lo.extent,\n",
    "                             vmin=0, vmax=2, source_images=False,\n",
    "                             deconv=False, psf=np.ones((3, 3))/25.)\n",
    "plot_scalebar(lo.extent[1], 50)\n",
    "plot_labelbox(label='HST-ACS F814W', position='top left')\n",
    "plt.axis('off')\n",
    "fig.axes[0].get_xaxis().set_visible(False)\n",
    "fig.axes[0].get_yaxis().set_visible(False)\n",
    "plt.savefig('HST_ACS_F814W_{}.pdf'.format(lensname), dpi=300, transparent=True)\n",
    "plt.show()"
   ]
  },
  {
   "cell_type": "code",
   "execution_count": null,
   "metadata": {},
   "outputs": [],
   "source": [
    "if cache.xy:\n",
    "    position = cache.xy[-1]\n",
    "else:\n",
    "    position = None\n",
    "# plt.close()\n",
    "print(\"Cutout center @ {}\".format(position))"
   ]
  },
  {
   "cell_type": "code",
   "execution_count": null,
   "metadata": {},
   "outputs": [],
   "source": [
    "fs = fig.axes[0].viewLim\n",
    "delta = int(0.5 + max(abs(fs.x1-fs.x0), abs(fs.y1-fs.y0)))\n",
    "delta = int(np.ceil(delta / 99.0)) * 99\n",
    "size = (delta, delta) if delta < hdu.data.shape[0] else hdu.data.shape\n",
    "if size == hdu.data.shape:\n",
    "    position = tuple(s//2 for s in hdu.data.shape)\n",
    "print(\"position: {}\".format(position), \"size: {}\".format(size))"
   ]
  },
  {
   "cell_type": "markdown",
   "metadata": {},
   "source": [
    "### Ovewrite fits file and plot again"
   ]
  },
  {
   "cell_type": "code",
   "execution_count": null,
   "metadata": {},
   "outputs": [],
   "source": [
    "wcs = WCS(hdu.header)\n",
    "cutout = Cutout2D(hdu.data, position, size, wcs)\n",
    "hdu.data = cutout.data\n",
    "hdu.header.update(cutout.wcs.to_header())"
   ]
  },
  {
   "cell_type": "code",
   "execution_count": null,
   "metadata": {
    "scrolled": false
   },
   "outputs": [],
   "source": [
    "# show again for validation\n",
    "%matplotlib notebook\n",
    "\n",
    "kw = dict(cmap=gcl.GLEAMcmaps.vilux, vmin=np.nanmin(hdu.data)*0.9, vmax=np.nanmax(hdu.data)*0.9)\n",
    "\n",
    "fig, ax = plt.subplots()\n",
    "pltdta = hdu.data[:]\n",
    "# pltdta = np.log10(pltdta+1+np.abs(np.nanmin(pltdta)))\n",
    "ax.imshow(pltdta, **kw)"
   ]
  },
  {
   "cell_type": "markdown",
   "metadata": {},
   "source": [
    "### Save file"
   ]
  },
  {
   "cell_type": "code",
   "execution_count": null,
   "metadata": {},
   "outputs": [],
   "source": [
    "savename = \"{}.fits\".format(os.path.dirname(filepath))\n",
    "print(\"Saving {}...\".format(savename))"
   ]
  },
  {
   "cell_type": "code",
   "execution_count": null,
   "metadata": {},
   "outputs": [],
   "source": [
    "hdu.writeto(savename, overwrite=True)"
   ]
  },
  {
   "cell_type": "code",
   "execution_count": null,
   "metadata": {},
   "outputs": [],
   "source": []
  }
 ],
 "metadata": {
  "kernelspec": {
   "display_name": "Python 2",
   "language": "python",
   "name": "python2"
  },
  "language_info": {
   "codemirror_mode": {
    "name": "ipython",
    "version": 2
   },
   "file_extension": ".py",
   "mimetype": "text/x-python",
   "name": "python",
   "nbconvert_exporter": "python",
   "pygments_lexer": "ipython2",
   "version": "2.7.15"
  }
 },
 "nbformat": 4,
 "nbformat_minor": 2
}
