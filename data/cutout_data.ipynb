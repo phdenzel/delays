{
 "cells": [
  {
   "cell_type": "markdown",
   "metadata": {},
   "source": [
    "# Cutout data from fits files"
   ]
  },
  {
   "cell_type": "markdown",
   "metadata": {},
   "source": [
    "## Imports"
   ]
  },
  {
   "cell_type": "code",
   "execution_count": null,
   "metadata": {},
   "outputs": [],
   "source": [
    "import sys\n",
    "import os\n",
    "import pprint\n",
    "import numpy as np\n",
    "import matplotlib.pyplot as plt\n",
    "\n",
    "from astropy.io import fits\n",
    "from astropy.wcs import WCS\n",
    "from astropy.nddata import Cutout2D\n",
    "\n",
    "root = \"/Users/phdenzel/gleam\"\n",
    "sys.path.append(root)\n",
    "import gleam.utils.colors as gcl"
   ]
  },
  {
   "cell_type": "markdown",
   "metadata": {},
   "source": [
    "## Functions"
   ]
  },
  {
   "cell_type": "code",
   "execution_count": null,
   "metadata": {},
   "outputs": [],
   "source": [
    "def onclick(event):\n",
    "    global position\n",
    "    global dot\n",
    "    ix, iy = int(event.xdata), int(event.ydata)\n",
    "    # print 'x, y = ({}, {})'.format(ix, iy)\n",
    "    position = (ix, iy)\n",
    "    dot.set_xdata(ix)\n",
    "    dot.set_ydata(iy)\n",
    "    plt.draw()"
   ]
  },
  {
   "cell_type": "markdown",
   "metadata": {},
   "source": [
    "## Main"
   ]
  },
  {
   "cell_type": "markdown",
   "metadata": {},
   "source": [
    "### Search for a fits file"
   ]
  },
  {
   "cell_type": "code",
   "execution_count": null,
   "metadata": {},
   "outputs": [],
   "source": [
    "directories = !ls -d lensedquasars/*/\n",
    "pprint.pprint(list(enumerate(directories)))"
   ]
  },
  {
   "cell_type": "code",
   "execution_count": null,
   "metadata": {},
   "outputs": [],
   "source": [
    "files = !ls -d {directories[90]}*\n",
    "files"
   ]
  },
  {
   "cell_type": "code",
   "execution_count": null,
   "metadata": {},
   "outputs": [],
   "source": [
    "filename = os.path.basename(files[0])\n",
    "filepath = files[0]\n",
    "print(filepath)\n",
    "print(\"Exists: {}\".format(os.path.exists(filepath)))"
   ]
  },
  {
   "cell_type": "markdown",
   "metadata": {},
   "source": [
    "### Read fits file and extract data"
   ]
  },
  {
   "cell_type": "code",
   "execution_count": null,
   "metadata": {},
   "outputs": [],
   "source": [
    "hdu = fits.open(filepath)\n",
    "print(hdu)\n",
    "if 0:\n",
    "    for h in hdu:\n",
    "        if isinstance(h, fits.hdu.image.ImageHDU):\n",
    "            hdu = h\n",
    "            break\n",
    "else:\n",
    "    hdu = hdu[0]\n",
    "\n",
    "position = tuple(s//2 for s in hdu.data.shape)\n",
    "\n",
    "print(hdu.data.shape, position)\n",
    "# print(repr(hhdu.header))"
   ]
  },
  {
   "cell_type": "markdown",
   "metadata": {},
   "source": [
    "### Plot the data"
   ]
  },
  {
   "cell_type": "code",
   "execution_count": null,
   "metadata": {},
   "outputs": [],
   "source": [
    "%matplotlib notebook\n",
    "\n",
    "kw = dict(cmap=gcl.GLEAMcmaps.vilux, vmin=np.nanmin(hdu.data)*0.9, vmax=np.nanmax(hdu.data)*0.9)\n",
    "\n",
    "fig, ax = plt.subplots()\n",
    "dot, = ax.plot(position[0], position[1], marker='o', markersize=5, color=gcl.red)\n",
    "cid = fig.canvas.mpl_connect('button_press_event', onclick)\n",
    "pltdta = hdu.data[:]\n",
    "# pltdta = np.log10(pltdta+1+np.abs(np.nanmin(pltdta)))\n",
    "ax.imshow(pltdta, **kw)"
   ]
  },
  {
   "cell_type": "code",
   "execution_count": null,
   "metadata": {},
   "outputs": [],
   "source": [
    "fig.canvas.mpl_disconnect(cid)\n",
    "plt.close()\n",
    "print(\"Cutout center @ {}\".format(position))"
   ]
  },
  {
   "cell_type": "code",
   "execution_count": null,
   "metadata": {},
   "outputs": [],
   "source": [
    "fs = fig.axes[0].viewLim\n",
    "delta = int(0.5 + max(abs(fs.x1-fs.x0), abs(fs.y1-fs.y0)))\n",
    "delta = int(np.ceil(delta / 99.0)) * 99\n",
    "size = (delta, delta) if delta < hdu.data.shape[0] else hdu.data.shape\n",
    "if size == hdu.data.shape:\n",
    "    position = tuple(s//2 for s in hdu.data.shape)\n",
    "print(\"position: {}\".format(position), \"size: {}\".format(size))"
   ]
  },
  {
   "cell_type": "markdown",
   "metadata": {},
   "source": [
    "### Ovewrite fits file and plot again"
   ]
  },
  {
   "cell_type": "code",
   "execution_count": null,
   "metadata": {},
   "outputs": [],
   "source": [
    "wcs = WCS(hdu.header)\n",
    "cutout = Cutout2D(hdu.data, position, size, wcs)\n",
    "hdu.data = cutout.data\n",
    "hdu.header.update(cutout.wcs.to_header())"
   ]
  },
  {
   "cell_type": "code",
   "execution_count": null,
   "metadata": {
    "scrolled": false
   },
   "outputs": [],
   "source": [
    "# show again for validation\n",
    "%matplotlib notebook\n",
    "\n",
    "# kw = dict(cmap=gcl.GLEAMcmaps.vilux, vmin=np.nanmin(hdu.data)*0.9, vmax=np.nanmax(hdu.data)*0.9)\n",
    "\n",
    "fig, ax = plt.subplots()\n",
    "pltdta = hdu.data[:]\n",
    "# pltdta = np.log10(pltdta+1+np.abs(np.nanmin(pltdta)))\n",
    "ax.imshow(pltdta, **kw)"
   ]
  },
  {
   "cell_type": "markdown",
   "metadata": {},
   "source": [
    "### Save file"
   ]
  },
  {
   "cell_type": "code",
   "execution_count": null,
   "metadata": {},
   "outputs": [],
   "source": [
    "savename = \"{}.fits\".format(os.path.dirname(filepath))\n",
    "print(\"Saving {}...\".format(savename))\n",
    "hdu.writeto(savename, overwrite=True)"
   ]
  },
  {
   "cell_type": "code",
   "execution_count": null,
   "metadata": {},
   "outputs": [],
   "source": [
    "!ls lensedquasars/*fits"
   ]
  },
  {
   "cell_type": "code",
   "execution_count": null,
   "metadata": {},
   "outputs": [],
   "source": []
  }
 ],
 "metadata": {
  "kernelspec": {
   "display_name": "Python 2",
   "language": "python",
   "name": "python2"
  },
  "language_info": {
   "codemirror_mode": {
    "name": "ipython",
    "version": 2
   },
   "file_extension": ".py",
   "mimetype": "text/x-python",
   "name": "python",
   "nbconvert_exporter": "python",
   "pygments_lexer": "ipython2",
   "version": "2.7.15"
  }
 },
 "nbformat": 4,
 "nbformat_minor": 2
}
