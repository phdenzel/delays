{
 "cells": [
  {
   "cell_type": "markdown",
   "metadata": {},
   "source": [
    "# Fetch data from MAST/SDSS..."
   ]
  },
  {
   "cell_type": "markdown",
   "metadata": {},
   "source": [
    "## Imports"
   ]
  },
  {
   "cell_type": "code",
   "execution_count": null,
   "metadata": {},
   "outputs": [],
   "source": [
    "import sys\n",
    "import os\n",
    "import shutil\n",
    "import json\n",
    "from bs4 import BeautifulSoup\n",
    "import requests\n",
    "import urllib2\n",
    "from astropy.io import fits\n",
    "from astropy import coordinates\n",
    "from astroquery.mast import Observations\n",
    "from astroquery.sdss import SDSS\n",
    "from astroquery.simbad import Simbad\n",
    "root = \"/Users/phdenzel/gleam\"\n",
    "sys.path.append(root)\n",
    "import gleam"
   ]
  },
  {
   "cell_type": "markdown",
   "metadata": {},
   "source": [
    "## Functions"
   ]
  },
  {
   "cell_type": "code",
   "execution_count": null,
   "metadata": {},
   "outputs": [],
   "source": [
    "def fetch_MAST_productlist(name, N,\n",
    "                           select_keys={'obs_collection': 'image',\n",
    "                                        'dataRights': 'PUBLIC'},\n",
    "                           composite_only=True, science_only=False,\n",
    "                           verbose=True):\n",
    "    \"\"\"\n",
    "    Args:\n",
    "        name <str> - object name, e.g. 'PG 1115+080'\n",
    "        N <int> - number of most recent observations to pull\n",
    "\n",
    "    Kwargs:\n",
    "        select_keys <dict> - selection criteria for which to filter\n",
    "        verbose <bool> - verbose mode; print command line statements\n",
    "    \"\"\"\n",
    "    obs = Observations.query_object(name, radius=\".001 deg\", )\n",
    "    select = True\n",
    "    for k, v in select_keys.items():\n",
    "        select = select & (obs[k] == v)\n",
    "    selected = obs[select][:N]\n",
    "    data_products = Observations.get_product_list(selected)\n",
    "    if composite_only:\n",
    "        data_products = data_products[data_products['type'] == 'C']\n",
    "    if science_only:\n",
    "        data_products = data_products[data_products['productType'] == 'SCIENCE']\n",
    "    if verbose:\n",
    "        print(\"# of observations:\\t {:4d}\".format(len(obs)))\n",
    "        print(\"# of selected obs:\\t {:4d}\".format(len(selected)))\n",
    "        print((len(selected['obs_id'])*\"{:>20}\\n\").format(*list(selected['obs_id'])))\n",
    "        print('# of products:    \\t {:4d}'.format(len(data_products)))\n",
    "    return data_products\n",
    "\n",
    "\n",
    "def postfilter_productlist(data_products, extension_keys={}):\n",
    "    \"\"\"\n",
    "    Args:\n",
    "        data_products <astropy.table.table.Table object> - table of data products\n",
    "\n",
    "    Kwargs:\n",
    "        extension_keys <dict> - extension criteria which to filter out\n",
    "    \"\"\"\n",
    "    for k, v in extension_keys.items():\n",
    "        msk = [False if p[k].endswith(v) else True for p in data_products]\n",
    "        if sum(msk) < len(data_products):\n",
    "            data_products = data_products[msk]\n",
    "    return data_products"
   ]
  },
  {
   "cell_type": "markdown",
   "metadata": {},
   "source": [
    "## Load from list of lenses"
   ]
  },
  {
   "cell_type": "markdown",
   "metadata": {},
   "source": [
    "### Paraficz table (https://arxiv.org/abs/1002.2570)"
   ]
  },
  {
   "cell_type": "code",
   "execution_count": null,
   "metadata": {},
   "outputs": [],
   "source": [
    "with open('table_1002.2570.json') as json_file:\n",
    "    delay_qsos = json.load(json_file)"
   ]
  },
  {
   "cell_type": "markdown",
   "metadata": {},
   "source": [
    "#### From MAST"
   ]
  },
  {
   "cell_type": "code",
   "execution_count": null,
   "metadata": {},
   "outputs": [],
   "source": [
    "# select a lens\n",
    "idx = 1\n",
    "\n",
    "# some settings\n",
    "N = 20\n",
    "select_keys = {\n",
    "    'obs_collection': 'HST',\n",
    "    # 'dataproduct_type': 'image',\n",
    "    # 'wavelength_region': 'Optical',\n",
    "    'dataRights': 'PUBLIC'\n",
    "}\n",
    "extnsn_keys = {'productFilename': 'jpg', }"
   ]
  },
  {
   "cell_type": "code",
   "execution_count": null,
   "metadata": {},
   "outputs": [],
   "source": [
    "# fetch data from MAST with name\n",
    "print(delay_qsos[idx][\"System\"])\n",
    "if 1:  # use SIMBAD to resolve object name\n",
    "    name = delay_qsos[idx][\"System\"]\n",
    "    query = Simbad.query_object(name)\n",
    "    name = query[\"MAIN_ID\"][0] if query else name\n",
    "else:\n",
    "    name = delay_qsos[idx][\"shortname\"]\n",
    "print(name)\n",
    "# get products\n",
    "data_prods = fetch_MAST_productlist(name, N, select_keys=select_keys, composite_only=True)\n",
    "filt_prods = postfilter_productlist(data_prods, extension_keys=extnsn_keys)\n",
    "print('# of filtered products:\\t {:4d}'.format(len(filt_prods)))\n",
    "# data_prods.show_in_browser()"
   ]
  },
  {
   "cell_type": "code",
   "execution_count": null,
   "metadata": {},
   "outputs": [],
   "source": [
    "# download and save data\n",
    "manifest = Observations.download_products(data_prods)"
   ]
  },
  {
   "cell_type": "code",
   "execution_count": null,
   "metadata": {},
   "outputs": [],
   "source": [
    "savedir = name.replace(\" \", \"\")\n",
    "gleam.utils.makedir.mkdir_p(savedir)\n",
    "for root, dirs, filenames in os.walk(\"mastDownload\"):\n",
    "    if filenames:\n",
    "        filepaths = [os.path.join(root, f) for f in filenames]\n",
    "        basedir = [os.path.basename(os.path.dirname(f)) for f in filepaths]\n",
    "        subsavedir = [os.path.join(savedir, d) for d in basedir]\n",
    "        for s, t, f in zip(filepaths, subsavedir, filenames):\n",
    "        gleam.utils.makedir.mkdir_p(t)\n",
    "            tf = os.path.join(t, f)\n",
    "            shutil.copy2(s, tf)\n",
    "# delete mastDownload\n",
    "shutil.rmtree(\"mastDownload\")"
   ]
  },
  {
   "cell_type": "markdown",
   "metadata": {},
   "source": [
    "#### From SDSS"
   ]
  },
  {
   "cell_type": "code",
   "execution_count": null,
   "metadata": {},
   "outputs": [],
   "source": [
    "# fetch data from SDSS with name/coordinate\n",
    "name = delay_qsos[idx][\"System\"]\n",
    "# name = delay_qsos[idx][\"shortname\"]\n",
    "print(name)\n",
    "pos = coordinates.SkyCoord.from_name(name)\n",
    "print(pos)\n",
    "xid = SDSS.query_region(pos, spectro=True)\n",
    "print(xid)\n",
    "# xid.show_in_browser()"
   ]
  },
  {
   "cell_type": "code",
   "execution_count": null,
   "metadata": {},
   "outputs": [],
   "source": [
    "# download and save data\n",
    "im = SDSS.get_images(matches=xid)\n",
    "print(im)"
   ]
  },
  {
   "cell_type": "markdown",
   "metadata": {},
   "source": [
    "### Lensed quasar database table (https://www.ast.cam.ac.uk/ioa/research/lensedquasars/index.html)"
   ]
  },
  {
   "cell_type": "code",
   "execution_count": null,
   "metadata": {},
   "outputs": [],
   "source": [
    "qsos = fits.open(\"lensedquasars.fits\")[1]"
   ]
  },
  {
   "cell_type": "markdown",
   "metadata": {},
   "source": [
    "#### Webcrawler for automated download"
   ]
  },
  {
   "cell_type": "code",
   "execution_count": null,
   "metadata": {},
   "outputs": [],
   "source": [
    "for d in hdu.data:\n",
    "        name = d[2]\n",
    "        # use webcrawler to download from https://www.ast.cam.ac.uk/ioa/research/lensedquasars/indiv/[name]\n",
    "        website = \"https://www.ast.cam.ac.uk/ioa/research/lensedquasars/indiv/{}.html\".format(name)\n",
    "        r = requests.get(website)\n",
    "        text = r.text\n",
    "        soup = BeautifulSoup(text, features=\"html5lib\")\n",
    "        fitslink = []\n",
    "        for search in soup.find_all('a'):\n",
    "            link = search.get('href')\n",
    "            if link.endswith('.fits') \\\n",
    "               or link.endswith('.fits.gz') \\\n",
    "               or link.endswith('.tar.gz'):\n",
    "                fitslink.append(link)\n",
    "        savedir = \"lensedquasars/{}\".format(name.replace(\" \", \"\"))\n",
    "        gleam.utils.makedir.mkdir_p(savedir)\n",
    "        for fl in fitslink:\n",
    "            response = urllib2.urlopen(fl)\n",
    "            filename = os.path.basename(fl)\n",
    "            print(fl)\n",
    "            html = response.read()\n",
    "            with open(os.path.join(savedir, filename), 'wb') as f:\n",
    "                f.write(html)"
   ]
  }
 ],
 "metadata": {
  "kernelspec": {
   "display_name": "Python 2",
   "language": "python",
   "name": "python2"
  },
  "language_info": {
   "codemirror_mode": {
    "name": "ipython",
    "version": 2
   },
   "file_extension": ".py",
   "mimetype": "text/x-python",
   "name": "python",
   "nbconvert_exporter": "python",
   "pygments_lexer": "ipython2",
   "version": "2.7.15"
  }
 },
 "nbformat": 4,
 "nbformat_minor": 2
}
