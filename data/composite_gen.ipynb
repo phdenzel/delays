{
 "cells": [
  {
   "cell_type": "markdown",
   "metadata": {},
   "source": [
    "# Cutout data from fits files"
   ]
  },
  {
   "cell_type": "markdown",
   "metadata": {},
   "source": [
    "## Imports"
   ]
  },
  {
   "cell_type": "code",
   "execution_count": null,
   "metadata": {},
   "outputs": [],
   "source": [
    "import sys\n",
    "import os\n",
    "import pprint\n",
    "import json\n",
    "import numpy as np\n",
    "import matplotlib.pyplot as plt\n",
    "import ipywidgets as widgets\n",
    "\n",
    "from astropy.io import fits\n",
    "from astropy.wcs import WCS\n",
    "from astropy.nddata import Cutout2D\n",
    "\n",
    "root = \"/Users/phdenzel/gleam\"\n",
    "sys.path.append(root)\n",
    "import gleam\n",
    "from gleam.lensobject import LensObject\n",
    "from gleam.multilens import MultiLens\n",
    "from gleam.utils.lensing import downsample_model, upsample_model\n",
    "from gleam.utils.plotting import IPColorbar, IPPointCache\n",
    "from gleam.utils.plotting import plot_scalebar, plot_labelbox\n",
    "from gleam.utils.rgb_map import lupton_like, asin_stack, hsv_stack\n",
    "import gleam.utils.colors as gcl\n",
    "gcl.GLEAMcmaps.register_all()"
   ]
  },
  {
   "cell_type": "markdown",
   "metadata": {},
   "source": [
    "## Main"
   ]
  },
  {
   "cell_type": "markdown",
   "metadata": {},
   "source": [
    "### Search for a fits file"
   ]
  },
  {
   "cell_type": "code",
   "execution_count": null,
   "metadata": {},
   "outputs": [],
   "source": [
    "directories = !ls -d delay_composites/*/\n",
    "pprint.pprint(directories)\n",
    "print(\"\")\n",
    "filenames = !ls delay_composites/WFIJ2033-4723/*.fits\n",
    "pprint.pprint(filenames)\n",
    "rgb_data = {}\n",
    "rgb_data['filenames'] = [filenames[0], filenames[1], filenames[2]]"
   ]
  },
  {
   "cell_type": "markdown",
   "metadata": {},
   "source": [
    "### Read fits file and extract data"
   ]
  },
  {
   "cell_type": "code",
   "execution_count": null,
   "metadata": {},
   "outputs": [],
   "source": [
    "%%script false\n",
    "rgb_data['hdu'] = []\n",
    "for filename in rgb_data['filenames']:\n",
    "    hdu = fits.open(filename)\n",
    "    print(len(hdu))\n",
    "    for h in hdu:\n",
    "        if isinstance(h, fits.hdu.image.ImageHDU):\n",
    "            hdu = h\n",
    "            break\n",
    "    if isinstance(hdu, list):\n",
    "        hdu = hdu[0]\n",
    "    rgb_data['hdu'].append(hdu)\n",
    "    print('#'*80)\n",
    "    print(hdu)\n",
    "    print(hdu.data.shape)\n",
    "    # print(hdu.header['CD2_2'])\n",
    "    #print(repr(hdu.header))\n",
    "    try:\n",
    "        print(hdu.header['ORIENTAT'])\n",
    "    except:\n",
    "        print('ORIENTAT not found')\n",
    "    # print(repr(hdu.header))\n",
    "\n",
    "positions = [p//2 for p in hdu.data.shape]"
   ]
  },
  {
   "cell_type": "code",
   "execution_count": null,
   "metadata": {},
   "outputs": [],
   "source": [
    "rgb_data['lens_object'] = []\n",
    "for f in rgb_data['filenames']:\n",
    "    lo = LensObject(f, auto=False, glscfactory_options={})\n",
    "    rgb_data['lens_object'].append(lo)\n",
    "    print(\"#\"*80)\n",
    "    print(lo.__v__)"
   ]
  },
  {
   "cell_type": "code",
   "execution_count": null,
   "metadata": {},
   "outputs": [],
   "source": [
    "pxscales = [l.px2arcsec for l in rgb_data['lens_object']]\n",
    "scale = 100\n",
    "for pxs in pxscales:\n",
    "    print(\"Rectangular: {}\".format(abs(pxs[0] - pxs[1]) < 1e-8))\n",
    "    if scale > pxs[0]:\n",
    "        scale = pxs[0]\n",
    "print(\"Setting scale to: {}\\nout of {}\".format(scale, pxscales))"
   ]
  },
  {
   "cell_type": "code",
   "execution_count": null,
   "metadata": {},
   "outputs": [],
   "source": [
    "for i, lo in enumerate(rgb_data['lens_object']):\n",
    "    print(lo)\n",
    "    # cut out rectangle from fits data\n",
    "    dims = lo.naxis2, lo.naxis1\n",
    "    mindim = min(dims)\n",
    "    mind2 = [mindim//2, mindim//2] if mindim%2==0 else [mindim//2, mindim//2+1]\n",
    "    data = lo.data[dims[0]//2-mind2[0]:dims[0]//2+mind2[1],\n",
    "                   dims[1]//2-mind2[0]:dims[1]//2+mind2[1]]\n",
    "    # get extent in order to rescale\n",
    "    mapr = (lo.px2arcsec[1] * data.shape[0])/2\n",
    "    shape = [int((2*r/a) + 0.5) for r, a in zip([mapr, mapr], [scale, scale])]\n",
    "    extent = [-mapr, mapr, -mapr, mapr]\n",
    "    if not (sum([abs(pa-scale) for pa in lo.px2arcsec]) < 2e-8):\n",
    "        # print(\"Downsampling map...\")\n",
    "        data = np.nan_to_num(data)\n",
    "        # data = downsample_model(kappa=data, pixel_scale=lo.px2arcsec[0],\n",
    "        #                         extent=extent, shape=shape,\n",
    "        #                         sanitize=False, verbose=True)\n",
    "        print(\"Upsampling map...\")\n",
    "        data = upsample_model(kappa=data, pixel_scale=lo.px2arcsec[0],\n",
    "                              extent=extent, shape=shape,\n",
    "                              sanitize=False, verbose=True)\n",
    "    # re-generate data\n",
    "    jdict = lo.__json__\n",
    "    jdict['data'] = data[:]\n",
    "    jdict['hdr']\n",
    "    jdict['hdr']['NAXIS1'] = data.shape[1]\n",
    "    jdict['hdr']['NAXIS2'] = data.shape[0]\n",
    "    jdict['px2arcsec'] = [scale, scale]\n",
    "    jdict['mapr'] = mapr\n",
    "    jdict['lens'] = None\n",
    "    jdict['srcimgs'] = []\n",
    "    del jdict['__type__']\n",
    "    rect_lo = LensObject.from_jdict(jdict)\n",
    "    rgb_data['lens_object'][i] = rect_lo\n",
    "    \n",
    "# print(rgb_data['lens_object'][0].naxis1, rgb_data['lens_object'][0].naxis1)"
   ]
  },
  {
   "cell_type": "markdown",
   "metadata": {},
   "source": [
    "### Plot the data and determine anchor points"
   ]
  },
  {
   "cell_type": "code",
   "execution_count": null,
   "metadata": {},
   "outputs": [],
   "source": [
    "rgb_data['position'] = []\n",
    "rgb_data['size'] = []"
   ]
  },
  {
   "cell_type": "markdown",
   "metadata": {},
   "source": [
    "#### R"
   ]
  },
  {
   "cell_type": "code",
   "execution_count": null,
   "metadata": {
    "scrolled": false
   },
   "outputs": [],
   "source": [
    "%matplotlib notebook\n",
    "fig, ax = plt.subplots()\n",
    "lo = rgb_data['lens_object'][0]\n",
    "fig, ax, plt_out = lo.plot_f(fig, ax=ax, cmap=gcl.GLEAMcmaps.vilux, colorbar=True,\n",
    "                             scalebar=False,\n",
    "                             vmin=0, vmax=0.5*np.max(lo.data), source_images=False,\n",
    "                             deconv=False, psf=np.ones((3, 3))/25.)\n",
    "clrbar = IPColorbar(plt_out[1], plt_out[0])\n",
    "clrbar.connect()\n",
    "cache = IPPointCache(plt_out[0], use_modes=[])\n",
    "cid = cache.connect()"
   ]
  },
  {
   "cell_type": "code",
   "execution_count": null,
   "metadata": {},
   "outputs": [],
   "source": [
    "if cache.xy:\n",
    "    position = [int(p+0.5) for p in cache.xy[-1]]\n",
    "else:\n",
    "    position = None\n",
    "# set size manually\n",
    "size = 199\n",
    "# size = 599 # SDSSJ1004+4112\n",
    "# position = [449, 523]  # B0218+357\n",
    "# position = [684, 694] # B1600+434\n",
    "# position = [2487, 2778]  # B1608+656\n",
    "# position = [1849, 1715]  # DESJ0408-5354\n",
    "# position = [596, 617]  # FBQ0951+2635\n",
    "# position = [1006, 991] # HE0435-1223\n",
    "# position = [1718, 2032]  # HE1104-1805\n",
    "# position = []  # HE2149-2745\n",
    "# position = [1222, 1207]  # PG1115+080\n",
    "# position = [1155, 1160] # RXJ0911+0551\n",
    "# position = [419, 310] # RXJ1311-01231\n",
    "# position = [4271, 2372] # SDSSJ1004+4112\n",
    "# position = [1601, 1639] # WFIJ2033-4723\n",
    "\n",
    "print(\"Position: {}\".format(position), \"size: {}\".format(size))"
   ]
  },
  {
   "cell_type": "code",
   "execution_count": null,
   "metadata": {},
   "outputs": [],
   "source": [
    "rgb_data['position'].append(position)\n",
    "rgb_data['size'].append(size)"
   ]
  },
  {
   "cell_type": "markdown",
   "metadata": {},
   "source": [
    "#### G"
   ]
  },
  {
   "cell_type": "code",
   "execution_count": null,
   "metadata": {},
   "outputs": [],
   "source": [
    "%matplotlib notebook\n",
    "fig, ax = plt.subplots()\n",
    "lo = rgb_data['lens_object'][1]\n",
    "fig, ax, plt_out = lo.plot_f(fig, ax=ax, cmap=gcl.GLEAMcmaps.vilux, colorbar=True,\n",
    "                             scalebar=False, filter_nan=False,\n",
    "                             vmin=0, vmax=0.5*np.max(lo.data), source_images=False,\n",
    "                             deconv=False, psf=np.ones((3, 3))/25.)\n",
    "clrbar = IPColorbar(plt_out[1], plt_out[0])\n",
    "clrbar.connect()\n",
    "cache = IPPointCache(plt_out[0], use_modes=[])\n",
    "cid = cache.connect()"
   ]
  },
  {
   "cell_type": "code",
   "execution_count": null,
   "metadata": {},
   "outputs": [],
   "source": [
    "if cache.xy:\n",
    "    position = [int(p+0.5) for p in cache.xy[-1]]\n",
    "else:\n",
    "    position = None\n",
    "# set size manually\n",
    "size = 199\n",
    "# size = 599 # SDSSJ1004+4112\n",
    "# position = [449, 523]  # B0218+357\n",
    "# position = [684, 694] # B1600+434\n",
    "# position = [2487, 2778]  # B1608+656\n",
    "# position = [2089, 1010]  # DESJ0408-5354\n",
    "# position = [596, 617]  # FBQ0951+2635\n",
    "# position = [873, 849]  # HE0435-1223\n",
    "# position = [1718, 2032]  # HE1104-1805\n",
    "# position = []  # HE2149-2745\n",
    "# position = [1222, 1207]  # PG1115+080\n",
    "# position = [464, 476] # RXJ0911+0551\n",
    "# position = [1819, 2379] # RXJ1311-01231\n",
    "# position = [4271, 2372] # SDSSJ1004+4112\n",
    "# position = [709, 698] # WFIJ2033-4723\n",
    "\n",
    "print(\"Position: {}\".format(position), \"size: {}\".format(size))"
   ]
  },
  {
   "cell_type": "code",
   "execution_count": null,
   "metadata": {},
   "outputs": [],
   "source": [
    "rgb_data['position'].append(position)\n",
    "rgb_data['size'].append(size)"
   ]
  },
  {
   "cell_type": "markdown",
   "metadata": {},
   "source": [
    "#### B"
   ]
  },
  {
   "cell_type": "code",
   "execution_count": null,
   "metadata": {},
   "outputs": [],
   "source": [
    "%matplotlib notebook\n",
    "fig, ax = plt.subplots()\n",
    "lo = rgb_data['lens_object'][2]\n",
    "fig, ax, plt_out = lo.plot_f(fig, ax=ax, cmap=gcl.GLEAMcmaps.vilux, colorbar=True,\n",
    "                             scalebar=False,\n",
    "                             vmin=0, vmax=0.5*np.max(lo.data), source_images=False,\n",
    "                             deconv=False, psf=np.ones((3, 3))/25.)\n",
    "clrbar = IPColorbar(plt_out[1], plt_out[0])\n",
    "clrbar.connect()\n",
    "cache = IPPointCache(plt_out[0], use_modes=[])\n",
    "cid = cache.connect()"
   ]
  },
  {
   "cell_type": "code",
   "execution_count": null,
   "metadata": {},
   "outputs": [],
   "source": [
    "if cache.xy:\n",
    "    position = [int(p+0.5) for p in cache.xy[-1]]\n",
    "else:\n",
    "    position = None\n",
    "# set size manually\n",
    "size = 199\n",
    "# size = 599 # SDSSJ1004+4112\n",
    "# position = [449, 523]  # B0218+357\n",
    "# position = [684, 694] # B1600+434\n",
    "# position = [2487, 2778]  # B1608+656\n",
    "# position = [2089, 1010]  # DESJ0408-5354\n",
    "# position = [596, 617]  # FBQ0951+2635\n",
    "# position = [1032, 816]  # HE0435-1223\n",
    "# position = [2071, 1048]  # HE1104-1805\n",
    "# position = []  # HE2149-2745\n",
    "# position = [532, 524]  # PG1115+080\n",
    "# position = [464, 476] # RXJ0911+0551\n",
    "# position = [1836, 2379] # RXJ1311-01231\n",
    "# position = [2420, 1961] # SDSSJ1004+4112\n",
    "# position = [709, 698] # WFIJ2033-4723\n",
    "\n",
    "print(\"Position: {}\".format(position), \"size: {}\".format(size))"
   ]
  },
  {
   "cell_type": "code",
   "execution_count": null,
   "metadata": {},
   "outputs": [],
   "source": [
    "rgb_data['position'].append(position)\n",
    "rgb_data['size'].append(size)"
   ]
  },
  {
   "cell_type": "markdown",
   "metadata": {},
   "source": [
    "## Stack'em"
   ]
  },
  {
   "cell_type": "code",
   "execution_count": null,
   "metadata": {},
   "outputs": [],
   "source": [
    "print(rgb_data['position'])\n",
    "print(rgb_data['size'])"
   ]
  },
  {
   "cell_type": "code",
   "execution_count": null,
   "metadata": {},
   "outputs": [],
   "source": [
    "orient = []\n",
    "for i, lo in enumerate(rgb_data['lens_object']):\n",
    "    print(lo)\n",
    "    if 'ORIENTAT' in lo.hdr:\n",
    "        orient.append(lo.hdr['ORIENTAT'])\n",
    "print(orient)"
   ]
  },
  {
   "cell_type": "code",
   "execution_count": null,
   "metadata": {},
   "outputs": [],
   "source": [
    "from scipy import ndimage\n",
    "rgb = []\n",
    "r, g, b = [l.data for l in rgb_data['lens_object']]\n",
    "# orient = [0, 0, 0]\n",
    "for i, (l, phi) in enumerate(zip(rgb_data['lens_object'], orient)):\n",
    "    d = l.data\n",
    "    p = rgb_data['position'][i]\n",
    "    s = rgb_data['size'][i]*2\n",
    "    d = d[p[1]-s//2:p[1]+s//2, p[0]-s//2:p[0]+s//2]\n",
    "    if phi != 0:\n",
    "        d = ndimage.rotate(d, -phi, reshape=False)\n",
    "    rgb.append(d[:])\n",
    "r, g, b = rgb\n",
    "print(r.shape, g.shape, b.shape)\n",
    "\n",
    "# r = (r - r.min()) / (r.max() - r.min())\n",
    "# g = (g - g.min()) / (g.max() - g.min())\n",
    "# b = (b - b.min()) / (b.max() - b.min())\n"
   ]
  },
  {
   "cell_type": "code",
   "execution_count": null,
   "metadata": {},
   "outputs": [],
   "source": []
  },
  {
   "cell_type": "code",
   "execution_count": null,
   "metadata": {
    "scrolled": false
   },
   "outputs": [],
   "source": [
    "# %%script false\n",
    "plt.close()\n",
    "\n",
    "# rgb_img = asin_stack(b, g, r, 0.7, 0.8, 15.1, 2.3, 0.5)  # B0218+357\n",
    "# rgb_img = asin_stack(b, g, r, 2.9, 3.6, 23.1, 2.8, .5)  # B1600+434\n",
    "# rgb_img = asin_stack(b, g, r, 1.0, 1.2, 0.2, 1.5, .5) # B1608+656\n",
    "# rgb_img = asin_stack(r, b, g, 0.04, 1.0, 1.9, 3.6, .5) # DESJ0408-5354\n",
    "# rgb_img = asin_stack(b, g, r, 0.4, 0.2, 3., 1.6, 1.)  # FBQ0951+2635 \n",
    "# rgb_img = asin_stack(r, g, b, 1.9, .9, 45.4, 0.19, .5)  # HE0435-1223\n",
    "# rgb_img = asin_stack(r, g, b, 0.06, 0.03, 30.0, 1.3, .4)  # HE1104-1805\n",
    "# rgb_img = asin_stack(r, g, b, 20, 10, 100, .2, .1)  # PG1115+080  # normalized\n",
    "# rgb_img = asin_stack(r, g, b, 0.1, 0.4, 0.6, 15., .1) # RXJ0911+0551  # normalized\n",
    "# rgb_img = asin_stack(r, g, b, 0.009, 0.00175, 0.005, 400., .5) # RXJ1131-1231\n",
    "# rgb_img = asin_stack(r, g, b, 0.085, 0.175, 3.5, 20., .1) # SDSSJ1004+4112\n",
    "# rgb_img = asin_stack(r, g, b, 0.04, 0.6, 1.8, 1., .1) # WFIJ2033-4723\n",
    "\n",
    "plt_out = plt.imshow(rgb_img, origin='lower')\n",
    "cache = IPPointCache(plt_out, use_modes=[])\n",
    "cid = cache.connect()\n",
    "plt.show()\n"
   ]
  },
  {
   "cell_type": "code",
   "execution_count": null,
   "metadata": {},
   "outputs": [],
   "source": [
    "# %%script false\n",
    "if cache.xy:\n",
    "    position = [int(p+0.5) for p in cache.xy[-1]]\n",
    "else:\n",
    "    position = None\n",
    "# set size manually\n",
    "size = 199\n",
    "# position = [99, 99]  # B0218+357\n",
    "# position = [199, 200] # B1600+434\n",
    "# position = [198, 199]  # B1608+656\n",
    "# position = [200, 199]  # DESJ0408-5354\n",
    "# position = [200, 214]  # FBQ0951+2635\n",
    "# position = [111, 92]  # HE0435-1223\n",
    "# position = [199, 195]  # HE1104-1805\n",
    "# position = []  # HE2149-2745\n",
    "# position = [199, 199]  # PG1115+080\n",
    "# position = [139, 193] # RXJ0911+0551\n",
    "# position = [198, 200] # RXJ1131-1231\n",
    "# position = [499, 831] # SDSSJ1004+4112\n",
    "# position = [300, 300] # WFIJ2033-4723\n",
    "\n",
    "print(\"Position: {}\".format(position), \"size: {}\".format(size))"
   ]
  },
  {
   "cell_type": "code",
   "execution_count": null,
   "metadata": {},
   "outputs": [],
   "source": [
    "# %%script false\n",
    "from scipy import ndimage\n",
    "plt.close()\n",
    "plt.figure(figsize=(6, 6))\n",
    "composite = rgb_img[position[1]-size//2:position[1]+size//2+1,\n",
    "                    position[0]-size//2:position[0]+size//2+1]\n",
    "R = scale*size/2\n",
    "extent = [-R, R, -R, R]\n",
    "# composite = ndimage.rotate(composite, 90, reshape=False)\n",
    "composite[:, :, 3] = 1\n",
    "plt.imshow(composite, extent=extent, origin='top')\n",
    "# plt.imshow(composite, extent=extent, origin='top', interpolation='spline16')\n",
    "plt.axis('off')\n",
    "plt.gcf().axes[0].get_xaxis().set_visible(False)\n",
    "plt.gcf().axes[0].get_yaxis().set_visible(False)\n",
    "plot_scalebar(extent[1], 1)\n",
    "plot_labelbox(label='WFIJ2033-4723 HST-WFC3 IR/UVIS\\n(F160W, F814W, F621M)', position='top left', fontsize=18)\n",
    "plt.tight_layout()\n",
    "# plt.savefig('{}_composite.pdf'.format(os.path.basename(os.path.dirname(filenames[0]))),\n",
    "#            bbox_inches='tight', pad_inches=0)\n",
    "plt.show()"
   ]
  },
  {
   "cell_type": "code",
   "execution_count": null,
   "metadata": {},
   "outputs": [],
   "source": []
  }
 ],
 "metadata": {
  "kernelspec": {
   "display_name": "Python 2.7.15 64-bit",
   "language": "python",
   "name": "python271564bitd942312e7b7943e19baa3c7e3a3a5111"
  },
  "language_info": {
   "codemirror_mode": {
    "name": "ipython",
    "version": 2
   },
   "file_extension": ".py",
   "mimetype": "text/x-python",
   "name": "python",
   "nbconvert_exporter": "python",
   "pygments_lexer": "ipython2",
   "version": "2.7.15"
  }
 },
 "nbformat": 4,
 "nbformat_minor": 2
}
