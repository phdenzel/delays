{
 "cells": [
  {
   "cell_type": "markdown",
   "metadata": {},
   "source": [
    "## Imports"
   ]
  },
  {
   "cell_type": "code",
   "execution_count": null,
   "metadata": {},
   "outputs": [],
   "source": [
    "import sys\n",
    "import os\n",
    "import numpy as np\n",
    "import matplotlib as mpl\n",
    "import matplotlib.pyplot as plt\n",
    "root = \"/Users/phdenzel/gleam\"\n",
    "sys.path.append(root)\n",
    "import gleam\n",
    "from gleam.lensobject import LensObject\n",
    "from gleam.utils.lensing import LensModel\n",
    "from gleam.reconsrc import ReconSrc, run_model\n",
    "from gleam.utils.plotting import kappa_map_plot, kappa_profiles_plot\n",
    "from gleam.utils.plotting import arrival_time_surface_plot\n",
    "from gleam.utils.plotting import plot_scalebar, plot_labelbox\n",
    "from gleam.utils.rgb_map import radial_mask\n",
    "import gleam.utils.colors as gcl\n",
    "gcl.GLEAMcmaps.register_all()\n"
   ]
  },
  {
   "cell_type": "markdown",
   "metadata": {},
   "source": [
    "## Load data"
   ]
  },
  {
   "cell_type": "code",
   "execution_count": null,
   "metadata": {},
   "outputs": [],
   "source": [
    "#        ACS          ACS(WFC3)        ACS(WFC3)      WFC3(UNK)\n",
    "#        WFC3         SBC              WFC3           ACS(GAIA)\n",
    "objs = ['B1608+656', 'DESJ0408-5354', 'HE0435-1223', 'PG1115+080',\n",
    "        'RXJ0911+0551', 'RXJ1131-1231', 'SDSSJ1004+4112', 'WFIJ2033-4723']\n",
    "objidx = 0\n",
    "sigf = 20     #   80(20),  100(25),   60(12),  600(60),  140(35), 4000 (50),   80,   80\n",
    "lens = objs[objidx]\n",
    "print(lens)\n"
   ]
  },
  {
   "cell_type": "code",
   "execution_count": null,
   "metadata": {},
   "outputs": [],
   "source": [
    "fitsdir = 'data/delay_qsos/'\n",
    "fitsfile = fitsdir + '{}.fits'.format(lens)\n",
    "print(fitsfile)\n",
    "\n",
    "jsondir = 'jsons/'\n",
    "jsonfile = jsondir + '{}.json'.format(lens)\n",
    "print(jsonfile)\n"
   ]
  },
  {
   "cell_type": "code",
   "execution_count": null,
   "metadata": {},
   "outputs": [],
   "source": [
    "with open(jsonfile) as f:\n",
    "    lo = LensObject.from_json(f)\n",
    "lo.squarify(0)   # 0, 0, 0, 0, 0\n",
    "print(lo.__v__)\n"
   ]
  },
  {
   "cell_type": "code",
   "execution_count": null,
   "metadata": {},
   "outputs": [],
   "source": [
    "statedir = 'states/'\n",
    "statefiles = ['11doubles_dg45.state',\n",
    "              '11doubles_dg60.state', '11doubles_CMB_dg60.state', '11doubles_SNeIa_dg60.state',\n",
    "              '7quads_dg45.state', '7quads_CMB_dg45.state', '7quads_SNeIa_dg45.state',\n",
    "              '7quads_dg60.state', '7quads_CMB_dg60.state', '7quads_SNeIa_dg60.state', \n",
    "              'all_dg60.state', 'all_SNeIa_dg60.state']\n",
    "statefile = statefiles[7]  # 7  8/9 5/6\n",
    "print(statefile)\n"
   ]
  },
  {
   "cell_type": "code",
   "execution_count": null,
   "metadata": {},
   "outputs": [],
   "source": [
    "lm = LensModel(statedir+statefile)\n",
    "lm.obj_idx = objidx\n",
    "print(lm.__v__)\n"
   ]
  },
  {
   "cell_type": "markdown",
   "metadata": {},
   "source": [
    "## Create synthetic images"
   ]
  },
  {
   "cell_type": "code",
   "execution_count": null,
   "metadata": {},
   "outputs": [],
   "source": [
    "# lo.data = np.fliplr(lo.data)\n",
    "reconsrc = ReconSrc(lo, lm, M=80, M_fullres=400, mask_keys=['circle'])\n",
    "reconsrc.chmdl(-1)\n",
    "sig2 = sigf * np.abs(reconsrc.lensobject.data)\n",
    "sig2[sig2 == 0] = sig2[sig2 != 0].min()\n",
    "\n",
    "print reconsrc.lensobject.data.shape\n"
   ]
  },
  {
   "cell_type": "code",
   "execution_count": null,
   "metadata": {},
   "outputs": [],
   "source": [
    "# reconsrc.rotation = 1*reconsrc.lensobject.hdr['ORIENTAT']\n",
    "# reconsrc.rotation = -95\n",
    "# reconsrc.rotation = -4.0  # reconsrc.lensobject.hdr['ORIENTAT']\n",
    "# reconsrc.rotation = -4.5  # reconsrc.lensobject.hdr['ORIENTAT']"
   ]
  },
  {
   "cell_type": "code",
   "execution_count": null,
   "metadata": {},
   "outputs": [],
   "source": [
    "dij = reconsrc.lens_map(mask=True)\n",
    "lmax = 0.0100 * np.max(dij)\n",
    "plt.imshow(dij, extent=reconsrc.extent, cmap='gravic', origin='lower', interpolation='bicubic', vmin=0, vmax=lmax)\n",
    "# plt.colorbar()\n",
    "#plt.xlim(-3, 3)\n",
    "#plt.ylim(-3, 3)\n",
    "c = reconsrc.lensobject.roi.buffer.center\n",
    "c = (c - reconsrc.lensobject.center.xy) * reconsrc.lensobject.px2arcsec[0]\n",
    "plt.plot(*c, marker='+', markersize=10, color='grey')\n",
    "plot_scalebar(R=reconsrc.lensobject.mapr, length=1)#, padding=(0.55, 0.55), barheight=0.03*0.5)\n",
    "plot_labelbox(lens, position='top left')\n",
    "plt.axis('off')\n",
    "plt.gcf().axes[0].get_xaxis().set_visible(False)\n",
    "plt.gcf().axes[0].get_yaxis().set_visible(False)\n",
    "plt.tight_layout()\n",
    "plt.show()"
   ]
  },
  {
   "cell_type": "code",
   "execution_count": null,
   "metadata": {},
   "outputs": [],
   "source": [
    "reconsrc.calc_psf(\"psf/tinytim_ACS.fits\", normalize=True, window_size=8, verbose=True)\n",
    "# reconsrc.calc_psf(\"psf/tinytim_ACSF555W.fits\", normalize=True, window_size=8, verbose=True)\n",
    "# reconsrc.calc_psf(\"psf/tinytim_ACSF814W.fits\", normalize=True, window_size=8, verbose=True)\n",
    "# reconsrc.calc_psf(\"psf/tinytim_WFC3.fits\", normalize=True, window_size=8, verbose=True)\n",
    "# reconsrc.calc_psf(\"psf/tinytim_SBC.fits\", normalize=True, window_size=8, verbose=True)"
   ]
  },
  {
   "cell_type": "code",
   "execution_count": null,
   "metadata": {},
   "outputs": [],
   "source": [
    "kw = dict(method='minres', use_psf=False, use_mask=True, use_filter=False, sigma2=sig2.copy(),\n",
    "          cached=True)\n"
   ]
  },
  {
   "cell_type": "code",
   "execution_count": null,
   "metadata": {},
   "outputs": [],
   "source": [
    "%%script false\n",
    "wrad = 0.8  # 0.5\n",
    "\n",
    "reconsrc.chmdl(-1)\n",
    "reconsrc.inv_proj_matrix(use_mask=False)\n",
    "dij = reconsrc.lens_map(mask=True)\n",
    "# dij = np.fliplr(dij)\n",
    "src = reconsrc.plane_map(**kw)\n",
    "synth = reconsrc.reproj_map(from_cache=False, save_to_cache=False, **kw)\n",
    "# synth = np.fliplr(synth)\n",
    "residmap = reconsrc.residual_map(nonzero_only=True, within_radius=wrad, from_cache=False, save_to_cache=False, **kw)\n",
    "chi2 = reconsrc.reproj_chi2(reduced=False, nonzero_only=True, within_radius=wrad, from_cache=False, save_to_cache=False, **kw)\n",
    "print(chi2)\n",
    "print(np.sum(residmap))\n",
    "\n",
    "\n",
    "lmax = 0.0150 * np.max(dij)      # 0.2500, 0.0075, 0.0075, 0.1000, 0.4000, 0.1000, 0.0100,  0.1000\n",
    "sbf = (reconsrc.lensobject.px2arcsec[0]/reconsrc.src_pxscale)**2\n",
    "\n",
    "\n",
    "plt.imshow(dij, extent=reconsrc.extent, cmap='gravic', origin='lower', interpolation='bicubic', vmin=0, vmax=lmax)\n",
    "# plt.colorbar()\n",
    "# plt.xlim(-3, 3)\n",
    "# plt.ylim(-3, 3)\n",
    "c = reconsrc.lensobject.roi.buffer.center\n",
    "c = (c - reconsrc.lensobject.center.xy) * reconsrc.lensobject.px2arcsec[0]\n",
    "plt.plot(*c, marker='+', markersize=10, color='grey')\n",
    "plot_scalebar(R=reconsrc.lensobject.mapr, length=1, padding=(0.55, 0.55), barheight=0.03*0.5)\n",
    "plot_labelbox(lens, position='top left')\n",
    "plt.axis('off')\n",
    "plt.gcf().axes[0].get_xaxis().set_visible(False)\n",
    "plt.gcf().axes[0].get_yaxis().set_visible(False)\n",
    "plt.tight_layout()\n",
    "plt.savefig(\"results/{}_data.pdf\".format(lens), transparent=True, bbox_inches='tight', pad_inches=0)\n",
    "plt.show()\n",
    "\n",
    "\n",
    "\n",
    "plt.imshow(src, extent=reconsrc.src_extent, cmap='gravic', origin='lower', interpolation='bicubic', vmin=0, vmax=lmax*sbf/1)\n",
    "# plt.colorbar()\n",
    "plot_scalebar(R=reconsrc.r_max, length=1)\n",
    "plot_labelbox(lens, position='top left')\n",
    "plt.axis('off')\n",
    "plt.gcf().axes[0].get_xaxis().set_visible(False)\n",
    "plt.gcf().axes[0].get_yaxis().set_visible(False)\n",
    "plt.tight_layout()\n",
    "plt.savefig(\"results/{}_{}_src.pdf\".format(lens, lm.filename.replace('.state', '')), transparent=True, bbox_inches='tight', pad_inches=0)\n",
    "plt.show()\n",
    "\n",
    "\n",
    "\n",
    "plt.imshow(synth, extent=reconsrc.extent, cmap='gravic', origin='lower', interpolation='bicubic', vmin=0, vmax=lmax)\n",
    "# plt.colorbar()\n",
    "# plt.xlim(-3, 3)\n",
    "# plt.ylim(-3, 3)\n",
    "plot_scalebar(R=reconsrc.lensobject.mapr, length=1, padding=(0.55, 0.55), barheight=0.03*0.5)\n",
    "plot_labelbox(lens, position='top left')\n",
    "c = reconsrc.lensobject.roi.buffer.center\n",
    "c = (c - reconsrc.lensobject.center.xy) * reconsrc.lensobject.px2arcsec[0]\n",
    "plt.plot(*c, marker='+', markersize=10, color='grey')\n",
    "plt.axis('off')\n",
    "plt.gcf().axes[0].get_xaxis().set_visible(False)\n",
    "plt.gcf().axes[0].get_yaxis().set_visible(False)\n",
    "plt.tight_layout()\n",
    "plt.savefig(\"results/{}_{}_synth.pdf\".format(lens, lm.filename.replace('.state', '')), transparent=True, bbox_inches='tight', pad_inches=0)\n",
    "plt.show()\n",
    "\n",
    "\n",
    "\n",
    "plt.imshow(residmap, extent=reconsrc.extent, cmap='vilux', origin='lower')\n",
    "# plt.xlim(-3, 3)\n",
    "# plt.ylim(-3, 3)\n",
    "plot_scalebar(R=reconsrc.lensobject.mapr, length=1)#, padding=(0.55, 0.55), barheight=0.03*0.5)\n",
    "plot_labelbox(lens, position='top left')\n",
    "c = reconsrc.lensobject.roi.buffer.center\n",
    "c = (c - reconsrc.lensobject.center.xy) * reconsrc.lensobject.px2arcsec[0]\n",
    "plt.plot(*c, marker='+', markersize=10, color='grey')\n",
    "plt.axis('off')\n",
    "plt.gcf().axes[0].get_xaxis().set_visible(False)\n",
    "plt.gcf().axes[0].get_yaxis().set_visible(False)\n",
    "plt.tight_layout()\n",
    "plt.savefig(\"results/{}_{}_resid.pdf\".format(lens, lm.filename.replace('.state', '')), transparent=True, bbox_inches='tight', pad_inches=0)\n",
    "plt.show()\n",
    "\n"
   ]
  },
  {
   "cell_type": "code",
   "execution_count": null,
   "metadata": {},
   "outputs": [],
   "source": [
    "%%script false\n",
    "qs = []\n",
    "for i in range(0, reconsrc.model.N):\n",
    "    reconsrc.chmdl(i)\n",
    "    reconsrc.inv_proj_matrix(use_mask=False)\n",
    "    chi2 = reconsrc.reproj_chi2(reduced=False, nonzero_only=True, within_radius=0.5, from_cache=False, save_to_cache=False, **kw)\n",
    "    qs.append(chi2)\n",
    "    print \"{:04d}\".format(i),\n",
    "    # message = \"{:8.4f} @ {:04d}\".format(chi2, i)\n",
    "    # print(message, end=\"\\r\")\n"
   ]
  },
  {
   "cell_type": "code",
   "execution_count": null,
   "metadata": {},
   "outputs": [],
   "source": [
    "%%script false\n",
    "np.savetxt(\"{}_{}_chi2.txt\".format(lm.filename.replace('.state', ''), lens), qs)\n"
   ]
  },
  {
   "cell_type": "code",
   "execution_count": null,
   "metadata": {},
   "outputs": [],
   "source": [
    "# %%script false\n",
    "qs = np.loadtxt(\"results/7quads_dg60_B1608+656_chi2.txt\")\n",
    "# qs = np.loadtxt(\"results/7quads_dg60_DESJ0408-5354_chi2.txt\")\n",
    "print(len(qs))\n"
   ]
  },
  {
   "cell_type": "code",
   "execution_count": null,
   "metadata": {},
   "outputs": [],
   "source": [
    "iqs = np.argsort(qs)\n",
    "iq = iqs[0]\n",
    "print iq, qs[iq]"
   ]
  },
  {
   "cell_type": "code",
   "execution_count": null,
   "metadata": {},
   "outputs": [],
   "source": [
    "def H02aHz(H0arr):\n",
    "    H0arr = np.asarray(H0arr)  # assume in units of km/s/Mpc\n",
    "    H0 = H0arr.copy()\n",
    "    H0 /= 3.08567758e1         # aHz=1e-18 sec\n",
    "    return H0\n",
    "\n",
    "def aHz2H0(vH0):\n",
    "    vH0 *= 3.08567758e1\n",
    "    return vH0\n",
    "\n",
    "def H02Gyrs(H0arr):\n",
    "    H0arr = np.asarray(H0arr)    # assume in units of km/s/Mpc\n",
    "    invH0 = 1./H0arr.copy()      # s Mpc/km\n",
    "    invH0 *= 3.08567758e3/np.pi  # Gyrs (Mpc=3.08567758e22 m; Gyr=pi*1e16 sec; km=1e3 m)\n",
    "    return invH0\n",
    "\n",
    "def H02critdens(H0arr):\n",
    "    c = 299792458.0            # m s^-1\n",
    "    G = 6.67430e-11            # kg^-1 m^3 s^-2\n",
    "    GeV = 1.602176634e-10      # J/GeV\n",
    "    H0arr = np.asarray(H0arr)  # assume in units of km/s/Mpc\n",
    "    H02 = H0arr.copy()**2\n",
    "    H02 /= 3.08567758e19*3.08567758e19  # s^-2\n",
    "    c2_8piG = 3*c**2/(8*np.pi*G) # kg m^2 m^-3\n",
    "    rhocrit = H02 * c2_8piG    # J / m^3\n",
    "    rhocrit /= 1.602176634e-10 # GeV / m^3\n",
    "    return rhocrit\n",
    "\n"
   ]
  },
  {
   "cell_type": "code",
   "execution_count": null,
   "metadata": {},
   "outputs": [],
   "source": [
    "H0data = np.array(lm.H0)\n",
    "H0data = H0data[iqs[:300]]  # best 30%\n",
    "\n",
    "aHzH0 = H02aHz(H0data)\n",
    "print(aHzH0[0])\n",
    "invH0 = H02Gyrs(H0data)\n",
    "print(invH0[0])\n",
    "rhocrit = H02critdens(H0data)\n",
    "print(rhocrit[0])\n",
    "\n"
   ]
  },
  {
   "cell_type": "code",
   "execution_count": null,
   "metadata": {},
   "outputs": [],
   "source": [
    "q = np.percentile(aHzH0, [16, 50, 84])\n",
    "\n",
    "fig, ax = plt.subplots()\n",
    "axc = ax.twiny()\n",
    "\n",
    "# second unit axis\n",
    "def convertaxc(ax):\n",
    "    x1, x2 = ax.get_xlim()\n",
    "    axc.set_xlim(aHz2H0(x1), aHz2H0(x2))\n",
    "    axc.figure.canvas.draw()\n",
    "ax.callbacks.connect(\"xlim_changed\", convertaxc)\n",
    "\n",
    "n, bins, patches = ax.hist(aHzH0, bins=25, density=True, rwidth=0.901)\n",
    "cm = plt.cm.get_cmap('phoenix')\n",
    "ax.axvline(q[1], color=gcl.pink)\n",
    "ax.axvline(q[0], color=gcl.red)\n",
    "ax.axvline(q[2], color=gcl.red)\n",
    "\n",
    "# add gaussian color scheme to pdf\n",
    "bin_centers = 0.5 * (bins[:-1] + bins[1:])\n",
    "x = np.exp(-(bin_centers - q[1])**2/np.mean(np.diff(q))**2)\n",
    "x = x/x.max()\n",
    "for c, p in zip(x, patches):\n",
    "    plt.setp(p, 'facecolor', cm(c))\n",
    "# add result text\n",
    "plt.rcParams['mathtext.fontset'] = 'stixsans'\n",
    "Hstr = 'H$_0$ = ${:5.1f}^{{{:+4.1f}}}_{{{:+4.1f}}}$'\n",
    "q = np.percentile(H0data, [16, 50, 84])\n",
    "plt.text(0.02, 0.85, Hstr.format(q[1], np.diff(q)[1], -np.diff(q)[0]), fontsize=19, color='black', transform=plt.gca().transAxes)\n",
    "\n",
    "fig.axes[0].get_yaxis().set_visible(False)\n",
    "ax.set_xlabel('H$_0$ [aHz]')\n",
    "axc.set_xlabel('H$_0$ [km/s/Mpc]', fontsize=12)\n",
    "plt.setp(axc.get_xticklabels(), fontsize=12)\n",
    "plt.tight_layout()\n",
    "plt.savefig('results/_H0hist_{}_filter{}.pdf'.format(statefile.replace('.state', ''), lens), transparent=True, bbox_inches='tight', pad_inches=0)\n",
    "# plt.close()\n",
    "plt.show()"
   ]
  },
  {
   "cell_type": "code",
   "execution_count": null,
   "metadata": {},
   "outputs": [],
   "source": []
  }
 ],
 "metadata": {
  "language_info": {
   "codemirror_mode": {
    "name": "ipython",
    "version": 2
   },
   "file_extension": ".py",
   "mimetype": "text/x-python",
   "name": "python",
   "nbconvert_exporter": "python",
   "pygments_lexer": "ipython2",
   "version": "2.7.15-final"
  },
  "orig_nbformat": 2,
  "kernelspec": {
   "name": "python271564bitd942312e7b7943e19baa3c7e3a3a5111",
   "display_name": "Python 2.7.15 64-bit"
  }
 },
 "nbformat": 4,
 "nbformat_minor": 2
}