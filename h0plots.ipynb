{
 "cells": [
  {
   "cell_type": "markdown",
   "metadata": {},
   "source": [
    "# Inspect GLASS models and generate synthetic images"
   ]
  },
  {
   "cell_type": "markdown",
   "metadata": {},
   "source": [
    "## Imports"
   ]
  },
  {
   "cell_type": "code",
   "execution_count": 1,
   "metadata": {},
   "outputs": [],
   "source": [
    "import sys\n",
    "import os\n",
    "import numpy as np\n",
    "from scipy.optimize import curve_fit\n",
    "import matplotlib as mpl\n",
    "import matplotlib.pyplot as plt\n",
    "root = \"/Users/phdenzel/gleam\"\n",
    "sys.path.append(root)\n",
    "import gleam\n",
    "from gleam.lensobject import LensObject\n",
    "from gleam.utils.lensing import LensModel\n",
    "from gleam.reconsrc import ReconSrc, run_model\n",
    "from gleam.utils.pdfs import lorentzian, gaussian, pseudovoigt, tukeygh\n",
    "from gleam.utils.pdfs import Measure\n",
    "from gleam.utils.plotting import kappa_map_plot, kappa_profiles_plot\n",
    "from gleam.utils.plotting import arrival_time_surface_plot\n",
    "from gleam.utils.plotting import plot_scalebar, plot_labelbox\n",
    "from gleam.utils.rgb_map import radial_mask\n",
    "from gleam.utils.units import H02aHz, aHz2H0, H02Gyrs, H02critdens\n",
    "import gleam.utils.colors as gcl\n",
    "gcl.GLEAMcmaps.register_all()\n"
   ]
  },
  {
   "cell_type": "markdown",
   "metadata": {},
   "source": [
    "## Load data files"
   ]
  },
  {
   "cell_type": "code",
   "execution_count": 2,
   "metadata": {},
   "outputs": [
    {
     "name": "stdout",
     "output_type": "stream",
     "text": [
      "PG1115+080\n"
     ]
    }
   ],
   "source": [
    "#        ACS          ACS(WFC3)        ACS(WFC3)      WFC3(UNK)\n",
    "#        ACS(WFC3)    SBC              WFC3           ACS(GAIA)\n",
    "objs = ['B1608+656', 'DESJ0408-5354', 'HE0435-1223', 'PG1115+080',\n",
    "        'RXJ0911+0551', 'RXJ1131-1231', 'SDSSJ1004+4112', 'WFIJ2033-4723']\n",
    "objidx = 3\n",
    "sigf = 600     #   80,  100,   60,  600,  140, 4000,   80,   80\n",
    "lens = objs[objidx]\n",
    "print(lens)\n"
   ]
  },
  {
   "cell_type": "code",
   "execution_count": 3,
   "metadata": {},
   "outputs": [
    {
     "name": "stdout",
     "output_type": "stream",
     "text": [
      "data/delay_qsos/PG1115+080.fits\n",
      "jsons/PG1115+080.json\n"
     ]
    }
   ],
   "source": [
    "fitsdir = 'data/delay_qsos/'\n",
    "fitsfile = fitsdir + '{}.fits'.format(lens)\n",
    "print(fitsfile)\n",
    "\n",
    "jsondir = 'jsons/'\n",
    "jsonfile = jsondir + '{}.json'.format(lens)\n",
    "print(jsonfile)\n"
   ]
  },
  {
   "cell_type": "code",
   "execution_count": 4,
   "metadata": {},
   "outputs": [
    {
     "name": "stdout",
     "output_type": "stream",
     "text": [
      "Properties of that field are unknown [None]\n",
      "filename            \tPG1115+080.json\n",
      "filepath            \t/Users/phdenzel/delays/jsons/PG1115+080.json\n",
      "band                \t\n",
      "naxis1              \t99\n",
      "naxis2              \t99\n",
      "naxis_plus          \tNone\n",
      "refval              \t[169.57094740092, 7.766067434866]\n",
      "refpx               \t[36.0, 41.0]\n",
      "center              \t<169.5705, 7.7664>\n",
      "px2deg              \t[3.562500079472802e-05, 3.5625000794728505e-05]\n",
      "px2arcsec           \t[0.12825000286102087, 0.12825000286102262]\n",
      "megacam_range       \tNone\n",
      "field               \tNone\n",
      "photzp              \tNone\n",
      "mag_formula         \t<function mag_formula at 0x7fabd73e4500>\n",
      "roi                 \tROISelector(99, 99)\n",
      "lens                \tNone\n",
      "srcimgs             \t[]\n",
      "zl                  \t0.5\n",
      "zs                  \t3.0\n",
      "mapr                \t6.3484\n",
      "tdelay              \tNone\n",
      "tderr               \tNone\n",
      "light_model         \t{}\n",
      "stel_mass           \tNone\n",
      "glscfactory         \tGLSCFactory(zl, srcimgs, parity, tderr...)\n",
      "finder              \tLensFinder(peaks(1/5):(4, 4)σ)\n"
     ]
    }
   ],
   "source": [
    "with open(jsonfile) as f:\n",
    "    lo = LensObject.from_json(f)\n",
    "lo.squarify(0)\n",
    "print(lo.__v__)\n"
   ]
  },
  {
   "cell_type": "code",
   "execution_count": 5,
   "metadata": {},
   "outputs": [
    {
     "name": "stdout",
     "output_type": "stream",
     "text": [
      "7quads_dg60.state\n"
     ]
    }
   ],
   "source": [
    "statedir = 'states/'\n",
    "statefiles = ['11doubles_dg45.state',\n",
    "              '11doubles_dg60.state', '11doubles_CMB_dg60.state', '11doubles_SNeIa_dg60.state',\n",
    "              '7quads_dg45.state', '7quads_CMB_dg45.state', '7quads_SNeIa_dg45.state',\n",
    "              '7quads_dg60.state', '7quads_CMB_dg60.state', '7quads_SNeIa_dg60.state', \n",
    "              'all_dg60.state', 'all_SNeIa_dg60.state']\n",
    "statefile = statefiles[7]  # 7  8/9 5/6\n",
    "print(statefile)\n"
   ]
  },
  {
   "cell_type": "code",
   "execution_count": 6,
   "metadata": {},
   "outputs": [
    {
     "name": "stdout",
     "output_type": "stream",
     "text": [
      "filename            \t7quads_dg60.state\n",
      "filepath            \tstates/7quads_dg60.state\n",
      "N                   \t1000\n",
      "pixrad              \t8\n",
      "maprad              \t1.67273244599\n",
      "pixel_size          \t0.0393584104938\n",
      "kappa               \tNone\n",
      "minima              \t[[ 0.11439883300091856  1.3727859960110342 ]\n",
      " [-0.7864919768813123  -0.872291101632015  ]]\n",
      "saddle_points       \t[[-1.058189205258495   -0.4289956237534523 ]\n",
      " [ 0.8579912475068856  -0.45759533200368047]]\n",
      "maxima              \t[]\n",
      "zl                  \t0.311\n",
      "zs                  \t1.735\n",
      "N_obj               \t8\n",
      "N_src               \t1\n",
      "obj_idx             \t3\n",
      "src_idx             \t0\n"
     ]
    }
   ],
   "source": [
    "lm = LensModel(statedir+statefile)\n",
    "lm.obj_idx = objidx\n",
    "print(lm.__v__)\n"
   ]
  },
  {
   "cell_type": "markdown",
   "metadata": {},
   "source": [
    "## Hubble constant"
   ]
  },
  {
   "cell_type": "code",
   "execution_count": 7,
   "metadata": {},
   "outputs": [
    {
     "name": "stdout",
     "output_type": "stream",
     "text": [
      "2.2685455026110537\n",
      "0.03240779289444362\n"
     ]
    }
   ],
   "source": [
    "hoaHz = H02aHz(70.0)\n",
    "print(hoaHz)\n",
    "print(H02aHz(1.0))\n",
    "\n",
    "aHzH0 = H02aHz(lm.H0)\n",
    "invH0 = H02Gyrs(lm.H0)\n",
    "rhocrit = H02critdens(lm.H0)\n"
   ]
  },
  {
   "cell_type": "code",
   "execution_count": 8,
   "metadata": {},
   "outputs": [],
   "source": [
    "def lorentzian(x, mu, gamma, I):\n",
    "    return I/(np.pi*gamma) * gamma*gamma/((x - mu)**2 + gamma*gamma)\n",
    "\n",
    "def gaussian(x, mu, sigma, I):\n",
    "    return I/np.sqrt(2*np.pi*sigma**2) * np.exp(-0.5*(mu - x)**2/(2*sigma**2))\n",
    "\n",
    "# xi = np.linspace(-10, 30, 300)\n",
    "# plt.plot(xi, lorentzian(xi, 10, 10, 10*np.pi))\n",
    "# plt.show()"
   ]
  },
  {
   "cell_type": "code",
   "execution_count": 9,
   "metadata": {},
   "outputs": [],
   "source": [
    "%%script false\n",
    "q = np.percentile(aHzH0, [16, 50, 84])\n",
    "dist, bin_edges = np.histogram(aHzH0, bins=50, density=True)\n",
    "# dist *= np.diff(bin_edges)\n",
    "bin_centers = 0.5 * (bin_edges[:-1] + bin_edges[1:])\n",
    "\n",
    "popt, pcov = curve_fit(lorentzian, bin_centers, dist)\n",
    "print(popt)\n",
    "\n",
    "plt.plot(bin_centers, dist)\n",
    "plt.plot(bin_centers, lorentzian(bin_centers, popt[0], popt[1], popt[2]))\n",
    "plt.show()\n"
   ]
  },
  {
   "cell_type": "code",
   "execution_count": 10,
   "metadata": {},
   "outputs": [
    {
     "name": "stdout",
     "output_type": "stream",
     "text": [
      "([66.9, 67.4, 67.9], [0, 0, 0])\n"
     ]
    }
   ],
   "source": [
    "planck = Measure(name=\"Planck\", mean=67.4, std=0.5)  # arxiv.org/abs/1807.06209\n",
    "shoes = Measure(name=\"SH0ES\", mean=74.03, std=1.42)  # arxiv.org/abs/1903.07603\n",
    "cchp = Measure(name=\"CCHP\", mean=69.8, std=1.7)  # arxiv.org/abs/1907.05922\n",
    "print(planck())\n"
   ]
  },
  {
   "cell_type": "code",
   "execution_count": 11,
   "metadata": {},
   "outputs": [
    {
     "data": {
      "image/png": "[encoded data removed]",
      "text/plain": [
       "<Figure size 432x288 with 2 Axes>"
      ]
     },
     "metadata": {
      "needs_background": "light"
     },
     "output_type": "display_data"
    }
   ],
   "source": [
    "#%%script false\n",
    "q = np.percentile(aHzH0, [16, 50, 84])\n",
    "\n",
    "fig, ax = plt.subplots()\n",
    "axc = ax.twiny()\n",
    "# second unit axis\n",
    "def convertaxc(ax):\n",
    "    x1, x2 = ax.get_xlim()\n",
    "    axc.set_xlim(aHz2H0(x1), aHz2H0(x2))\n",
    "    axc.figure.canvas.draw()\n",
    "ax.callbacks.connect(\"xlim_changed\", convertaxc)\n",
    "\n",
    "nbins = 30\n",
    "n, bins, patches = ax.hist(aHzH0, bins=nbins, density=True, rwidth=0.901)\n",
    "cm = plt.cm.get_cmap('phoenix')\n",
    "ax.axvline(q[1], color=cm(0.20), alpha=0.3, zorder=0)\n",
    "ax.axvline(q[0], color=cm(0.05), alpha=0.3, zorder=0)\n",
    "ax.axvline(q[2], color=cm(0.05), alpha=0.3, zorder=0)\n",
    "yl = ax.get_ylim()\n",
    "\n",
    "# add gaussian/lorentzian/voigt color scheme to pdf\n",
    "bin_centers = 0.5 * (bins[:-1] + bins[1:])\n",
    "dx = bin_centers[1]-bin_centers[0]\n",
    "xdata = [bin_centers[0]-i*dx for i in range(1, 6)] + list(bin_centers) + [bin_centers[-1]+i*dx for i in range(1, 6)]\n",
    "ydata = [0 for i in range(5)] + list(n) + [0 for i in range(5)]\n",
    "lpopt, lpcov = curve_fit(lorentzian, xdata, ydata)\n",
    "ldist = lorentzian(bin_centers, lpopt[0], lpopt[1], lpopt[2])\n",
    "gpopt, gpcov = curve_fit(gaussian, xdata, ydata)\n",
    "gdist = gaussian(bin_centers, gpopt[0], gpopt[1], gpopt[2])\n",
    "vpopt, vpcov = curve_fit(pseudovoigt, xdata, ydata)\n",
    "vdist = pseudovoigt(bin_centers, vpopt[0], vpopt[1], vpopt[2], vpopt[3], vpopt[4])\n",
    "# tpopt, tpcov = curve_fit(tukeygh, xdata, ydata, bounds=([0, -1, 0, 0], [np.inf, 1, 1, np.inf]))\n",
    "# tdist = tukeygh(xdata, tpopt[0], tpopt[1], tpopt[2], tpopt[3])\n",
    "cpf = np.cumsum(n * abs(bins[0]-bins[-1]) / nbins) * 2\n",
    "cpf[cpf > 1] = -(cpf[cpf > 1] - 1) + 1\n",
    "for c, p in zip(cpf, patches):\n",
    "    plt.setp(p, 'facecolor', cm(c))\n",
    "\n",
    "# add gaussian/lorentzian/voigt fits\n",
    "xdata = np.linspace(xdata[0], xdata[-1], 200)\n",
    "# lfit = lorentzian(xdata, lpopt[0], lpopt[1], lpopt[2])\n",
    "# ax.plot(xdata, lfit, label='Lorentzian', color=cm(0.5))\n",
    "# gfit = gaussian(xdata, gpopt[0], gpopt[1], gpopt[2])\n",
    "# ax.plot(xdata, gfit, label='Gaussian', color=cm(0.1))\n",
    "# vfit = pseudovoigt(xdata, vpopt[0], vpopt[1], vpopt[2], vpopt[3], vpopt[4])\n",
    "# ax.plot(xdata, vfit, label='Pseudo-Voigt', color=cm(0.2))\n",
    "# tfit = tukeygh(xdata, tpopt[0], tpopt[1], tpopt[2], tpopt[3])\n",
    "# ax.plot(xdata, tfit, label='Tukey g-h', color=cm(1.0))\n",
    "# ax.legend(loc='upper right', fontsize=10, numpoints=1, borderpad=0.3)\n",
    "\n",
    "# plot the other estimates\n",
    "xmeasure = [planck, cchp, shoes]\n",
    "ymeasure = [yl[-1]*1.1, yl[-1]*1.075, yl[-1]*1.05]\n",
    "for x, y, c in zip(xmeasure, ymeasure, [cm(0.15), cm(0.15), cm(0.15)]):\n",
    "    xshift = -2 if x.name == 'Planck' else 0\n",
    "    x.plot(y, xshift=xshift, yshift=0.4, msize=75, color=c)\n",
    "# # or as axvspans (monocolored/multicolored)\n",
    "# xmeasure = [planck, cchp, shoes]\n",
    "# for x in xmeasure:\n",
    "#     # x.span_monocolor(ax, transform=H02aHz, color=c)\n",
    "#     x.span_multicolor(ax, transform=H02aHz,\n",
    "#                       cmap=gcl.GLEAMcmaps.reverse(gcl.GLEAMcmaps.phoenix), alpha=.6, alpha_grad=False)\n",
    "\n",
    "\n",
    "# add result text\n",
    "plt.rcParams['mathtext.fontset'] = 'stixsans'\n",
    "Hstr = 'H$_0$ = ${:5.1f}^{{{:+4.1f}}}_{{{:+4.1f}}}$'\n",
    "q = np.percentile(lm.H0, [16, 50, 84])\n",
    "# plt.text(0.02, 0.85, Hstr.format(q[1], np.diff(q)[1], -np.diff(q)[0]), fontsize=19, color='black', transform=plt.gca().transAxes)\n",
    "\n",
    "fig.axes[0].get_yaxis().set_visible(False)\n",
    "ax.set_xlim(bins[0]-dx, bins[-1]+dx)\n",
    "ax.set_ylim(0, yl[-1]*1.333)\n",
    "# ax.set_ylim(yl)\n",
    "ax.set_xlabel('H$_0$ [aHz]')\n",
    "axc.set_xlabel('H$_0$ [km/s/Mpc]', fontsize=12)\n",
    "plt.setp(axc.get_xticklabels(), fontsize=12)\n",
    "plt.tight_layout()\n",
    "plt.savefig('results/_H0hist_{}.pdf'.format(statefile.replace('.state', '')), transparent=True, bbox_inches='tight', pad_inches=0)\n",
    "plt.show()\n",
    "plt.close()\n"
   ]
  },
  {
   "cell_type": "code",
   "execution_count": 12,
   "metadata": {
    "scrolled": true
   },
   "outputs": [
    {
     "name": "stderr",
     "output_type": "stream",
     "text": [
      "/Library/Frameworks/Python.framework/Versions/2.7/lib/python2.7/site-packages/scipy/optimize/minpack.py:794: OptimizeWarning: Covariance of the parameters could not be estimated\n",
      "  category=OptimizeWarning)\n"
     ]
    },
    {
     "data": {
      "image/png": "[encoded data removed]",
      "text/plain": [
       "<Figure size 432x288 with 1 Axes>"
      ]
     },
     "metadata": {
      "needs_background": "light"
     },
     "output_type": "display_data"
    }
   ],
   "source": [
    "#%%script false\n",
    "q = np.percentile(invH0, [16, 50, 84])\n",
    "nbins = 30\n",
    "n, bins, patches = plt.hist(invH0, bins=nbins, density=True, rwidth=0.901)\n",
    "cm = plt.cm.get_cmap('phoenix')\n",
    "plt.axvline(q[1], color=cm(0.20), alpha=0.3, zorder=0)\n",
    "plt.axvline(q[0], color=cm(0.05), alpha=0.3, zorder=0)\n",
    "plt.axvline(q[2], color=cm(0.05), alpha=0.3, zorder=0)\n",
    "yl = plt.gca().get_ylim()\n",
    "\n",
    "# # add measures\n",
    "xmeasure = [planck, cchp, shoes]\n",
    "ymeasure = [yl[-1]*1.1, yl[-1]*1.075, yl[-1]*1.05]\n",
    "for x, y, c in zip(xmeasure, ymeasure, [cm(0.15), cm(0.15), cm(0.15)]):\n",
    "    xshift = -1.5 if x.name == 'Planck' else 0\n",
    "    x.plot(y, xshift=xshift, yshift=0.1*yl[-1], transform=H02Gyrs, msize=75, color=c)\n",
    "# # as axvspans (monocolored/multicolored)\n",
    "# for x in xmeasure:\n",
    "#      x.span_multicolor(transform=H02Gyrs, cmap='phoenix', alpha=1., alpha_grad=True)\n",
    "\n",
    "# add gaussian/lorentzian.voigt fits\n",
    "bin_centers = 0.5 * (bins[:-1] + bins[1:])\n",
    "dx = bin_centers[1]-bin_centers[0]\n",
    "xdata = bin_centers  # [bin_centers[0]-i*dx for i in range(1, 16)] + list(bin_centers) + [bin_centers[-1]+i*dx for i in range(1, 16)]\n",
    "ydata = n  # [0 for i in range(15)] + list(n) + [0 for i in range(15)]\n",
    "lpopt, lpcov = curve_fit(lorentzian, xdata, ydata)\n",
    "ldist = lorentzian(bin_centers, lpopt[0], lpopt[1], lpopt[2])\n",
    "gpopt, gpcov = curve_fit(gaussian, xdata, ydata)\n",
    "gdist = gaussian(bin_centers, gpopt[0], gpopt[1], gpopt[2])\n",
    "vpopt, vpcov = curve_fit(pseudovoigt, xdata, ydata)\n",
    "vdist = pseudovoigt(bin_centers, vpopt[0], vpopt[1], vpopt[2], vpopt[3], vpopt[4])\n",
    "cpf = np.cumsum(n * abs(bins[0]-bins[-1]) / nbins) * 2\n",
    "cpf[cpf > 1] = -(cpf[cpf > 1] - 1) + 1\n",
    "for c, p in zip(cpf, patches):\n",
    "    plt.setp(p, 'facecolor', cm(c))\n",
    "\n",
    "# # add gaussian/lorentzian/voigt fits\n",
    "# xdata = np.linspace(xdata[0], xdata[-1], 200)\n",
    "# fit = lorentzian(xdata, lpopt[0], lpopt[1], lpopt[2])\n",
    "# plt.plot(xdata, fit, color='black')\n",
    "# fit = gaussian(xdata, gpopt[0], gpopt[1], gpopt[2])\n",
    "# plt.plot(xdata, fit, color='black')\n",
    "# vfit = pseudovoigt(xdata, vpopt[0], vpopt[1], vpopt[2], vpopt[3], vpopt[4])\n",
    "# plt.plot(xdata, vfit, color='black')\n",
    "\n",
    "# add text\n",
    "plt.rcParams['mathtext.fontset'] = 'stixsans'\n",
    "Hstr = 'H$_0^{{-1}}$ = ${:5.1f}^{{{:+4.1f}}}_{{{:+4.1f}}}$'\n",
    "# plt.text(0.62, 0.85, Hstr.format(q[1], np.diff(q)[1], -np.diff(q)[0]), fontsize=19, color='black', transform=plt.gca().transAxes)\n",
    "\n",
    "plt.gcf().axes[0].get_yaxis().set_visible(False)\n",
    "plt.gca().set_xlim(bins[0]-dx, bins[-1]+dx)\n",
    "plt.gca().set_ylim(0, yl[-1]*1.333)\n",
    "# plt.gca().set_ylim(yl)\n",
    "plt.xlabel('H$_0^{-1}$ [Gyr]')\n",
    "plt.tight_layout()\n",
    "plt.savefig('results/_invH0hist_{}.pdf'.format(statefile.replace('.state', '')), transparent=True, bbox_inches='tight', pad_inches=0)\n",
    "plt.show()\n",
    "plt.close()\n"
   ]
  },
  {
   "cell_type": "code",
   "execution_count": 13,
   "metadata": {},
   "outputs": [
    {
     "data": {
      "image/png": "[encoded data removed]",
      "text/plain": [
       "<Figure size 432x288 with 1 Axes>"
      ]
     },
     "metadata": {
      "needs_background": "light"
     },
     "output_type": "display_data"
    }
   ],
   "source": [
    "#%%script false\n",
    "q = np.percentile(rhocrit, [16, 50, 84])\n",
    "nbins = 30\n",
    "n, bins, patches = plt.hist(rhocrit, bins=nbins, density=True, rwidth=0.901)\n",
    "cm = plt.cm.get_cmap('phoenix')\n",
    "plt.axvline(q[1], color=cm(0.20), alpha=0.3, zorder=0)\n",
    "plt.axvline(q[0], color=cm(0.05), alpha=0.3, zorder=0)\n",
    "plt.axvline(q[2], color=cm(0.05), alpha=0.3, zorder=0)\n",
    "yl = plt.gca().get_ylim()\n",
    "\n",
    "# add measures\n",
    "xmeasure = [planck, cchp, shoes]\n",
    "ymeasure = [yl[-1]*1.1, yl[-1]*1.075, yl[-1]*1.05]\n",
    "for x, y, c in zip(xmeasure, ymeasure, [cm(0.15), cm(0.15), cm(0.15)]):\n",
    "    xshift = -2 if x.name == 'Planck' else 0\n",
    "    x.plot(y, xshift=xshift, yshift=0.1*yl[-1], transform=H02critdens, msize=75, color=c)\n",
    "# # or as axvspans (multicolored)\n",
    "# for x in xmeasure:\n",
    "#      x.span_multicolor(transform=H02critdens, cmap='phoenix', alpha=1., alpha_grad=True)\n",
    "\n",
    "# add gaussian/lorentzian/voigt color scheme to pdf\n",
    "bin_centers = 0.5 * (bins[:-1] + bins[1:])\n",
    "dx = bin_centers[1]-bin_centers[0]\n",
    "xdata = [bin_centers[0]-i*dx for i in range(1, 16)] + list(bin_centers) + [bin_centers[-1]+i*dx for i in range(1, 16)]\n",
    "ydata = [0 for i in range(15)] + list(n) + [0 for i in range(15)]\n",
    "lpopt, lpcov = curve_fit(lorentzian, xdata, ydata)\n",
    "ldist = lorentzian(bin_centers, lpopt[0], lpopt[1], lpopt[2])\n",
    "gpopt, gpcov = curve_fit(gaussian, xdata, ydata)\n",
    "gdist = gaussian(bin_centers, gpopt[0], gpopt[1], gpopt[2])\n",
    "vpopt, vpcov = curve_fit(pseudovoigt, xdata, ydata)\n",
    "vdist = pseudovoigt(bin_centers, vpopt[0], vpopt[1], vpopt[2], vpopt[3], vpopt[4])\n",
    "cpf = np.cumsum(n * abs(bins[0]-bins[-1]) / nbins) * 2\n",
    "cpf[cpf > 1] = -(cpf[cpf > 1] - 1) + 1\n",
    "for c, p in zip(cpf, patches):\n",
    "    plt.setp(p, 'facecolor', cm(c))\n",
    "\n",
    "# # add gaussian/lorentzian/voigt fits\n",
    "# xdata = np.linspace(xdata[0], xdata[-1], 200)\n",
    "# lfit = lorentzian(xdata, lpopt[0], lpopt[1], lpopt[2])\n",
    "# plt.plot(xdata, lfit, color='black')\n",
    "# gfit = gaussian(xdata, gpopt[0], gpopt[1], gpopt[2])\n",
    "# plt.plot(xdata, gfit, color='black')\n",
    "# vfit = pseudovoigt(xdata, vpopt[0], vpopt[1], vpopt[2], vpopt[3], vpopt[4])\n",
    "# plt.plot(xdata, vfit, color='black')\n",
    "\n",
    "# add text\n",
    "plt.rcParams['mathtext.fontset'] = 'stixsans'\n",
    "Hstr = r\"$\\rho_{{\\mathrm{{c}}}}$ = ${:5.1f}^{{{:+4.1f}}}_{{{:+4.1f}}}$\"\n",
    "# plt.text(0.02, 0.85, Hstr.format(q[1], np.diff(q)[1], -np.diff(q)[0]), fontsize=19, color='black', transform=plt.gca().transAxes)\n",
    "\n",
    "plt.gcf().axes[0].get_yaxis().set_visible(False)\n",
    "plt.gca().set_xlim(bins[0]-dx, bins[-1]+dx)\n",
    "# plt.gca().set_ylim(yl)\n",
    "plt.gca().set_ylim(0, yl[-1]*1.333)\n",
    "plt.xlabel(r\"$\\rho_{\\mathrm{c}}$ [GeV/m$^{{3}}$]\")\n",
    "plt.tight_layout()\n",
    "plt.savefig('results/_H02denshist_{}.pdf'.format(statefile.replace('.state', '')), transparent=True, bbox_inches='tight', pad_inches=0)\n",
    "plt.show()\n",
    "plt.close()\n"
   ]
  },
  {
   "cell_type": "code",
   "execution_count": 14,
   "metadata": {},
   "outputs": [
    {
     "name": "stdout",
     "output_type": "stream",
     "text": [
      "filename            \trung2_A1quad.state\n",
      "filepath            \t/Users/phdenzel/tdlmc/states/rung2_A1quad.state\n",
      "N                   \t1000\n",
      "pixrad              \t8\n",
      "maprad              \t2.59811367721\n",
      "pixel_size          \t0.0611320865227\n",
      "kappa               \t69503751043.2\n",
      "minima              \t[[ 1.058279641724595   0.7138070803199815]\n",
      " [-1.1212614966573735 -0.5639240114200066]]\n",
      "saddle_points       \t[[-0.7208205374643835  0.9472920698154684]\n",
      " [ 0.5597269846601474 -1.0258526699434234]]\n",
      "maxima              \t[]\n",
      "zl                  \t0.498\n",
      "zs                  \t2.482\n",
      "N_obj               \t4\n",
      "N_src               \t1\n",
      "obj_idx             \t0\n",
      "src_idx             \t0\n",
      "filename            \trung3Cquads.state\n",
      "filepath            \t/Users/phdenzel/tdlmc/states/rung3Cquads.state\n",
      "N                   \t1000\n",
      "pixrad              \t8\n",
      "maprad              \t2.11287331141\n",
      "pixel_size          \t0.0828577769178\n",
      "kappa               \t76425405576.9\n",
      "minima              \t[[-0.6350828983604239   1.112327016063516  ]\n",
      " [ 0.07084121090060012 -1.1838506537559474 ]]\n",
      "saddle_points       \t[[-0.7272640993330028  -0.8908538029499355 ]\n",
      " [ 1.0512447140776053   0.15205588639963355]]\n",
      "maxima              \t[]\n",
      "zl                  \t0.6\n",
      "zs                  \t1.5\n",
      "N_obj               \t4\n",
      "N_src               \t1\n",
      "obj_idx             \t0\n",
      "src_idx             \t0\n"
     ]
    }
   ],
   "source": [
    "from gleam.utils.plotting import h0hist_plot\n",
    "\n",
    "opts = ['/Users/phdenzel/tdlmc/states/rung2_A1quad.state', '/Users/phdenzel/tdlmc/states/rung3Cquads.state']\n",
    "models = (LensModel(f) for f in opts)\n",
    "\n",
    "for mdl, hval in zip(models, [66.643, 65.413]):\n",
    "    fig, axes = h0hist_plot(mdl, units='aHz', result_label=False, label_pos='right',\n",
    "                            showfig=False, savefig=False, verbose=True)\n",
    "    axes[1].axvline(hval, color='k')\n",
    "    savename = os.path.splitext(mdl.filename)[0]\n",
    "    plt.savefig('h0hist_{}.pdf'.format(savename))\n",
    "    plt.close()"
   ]
  },
  {
   "cell_type": "code",
   "execution_count": null,
   "metadata": {},
   "outputs": [],
   "source": []
  }
 ],
 "metadata": {
  "kernelspec": {
   "display_name": "Python 2",
   "language": "python",
   "name": "python2"
  },
  "language_info": {
   "codemirror_mode": {
    "name": "ipython",
    "version": 2
   },
   "file_extension": ".py",
   "mimetype": "text/x-python",
   "name": "python",
   "nbconvert_exporter": "python",
   "pygments_lexer": "ipython2",
   "version": "2.7.15"
  }
 },
 "nbformat": 4,
 "nbformat_minor": 2
}
