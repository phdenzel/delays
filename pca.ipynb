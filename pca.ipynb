{
 "cells": [
  {
   "cell_type": "markdown",
   "metadata": {},
   "source": [
    "### Imports"
   ]
  },
  {
   "cell_type": "code",
   "execution_count": null,
   "metadata": {},
   "outputs": [],
   "source": [
    "import sys\n",
    "import os\n",
    "import numpy as np\n",
    "import pandas as pd\n",
    "from sklearn.preprocessing import StandardScaler\n",
    "from sklearn.decomposition import PCA\n",
    "import matplotlib as mpl\n",
    "import matplotlib.pyplot as plt\n",
    "root = \"/Users/phdenzel/gleam\"\n",
    "sys.path.append(root)\n",
    "import gleam\n",
    "from gleam.utils.lensing import LensModel\n",
    "from gleam.utils.plotting import kappa_map_plot, plot_scalebar\n",
    "import gleam.utils.colors as gcl\n",
    "gcl.GLEAMcmaps.register_all()\n"
   ]
  },
  {
   "cell_type": "markdown",
   "metadata": {},
   "source": [
    "### Load data"
   ]
  },
  {
   "cell_type": "code",
   "execution_count": null,
   "metadata": {},
   "outputs": [],
   "source": [
    "#        ACS          ACS(WFC3)        ACS(WFC3)      WFC3(UNK)\n",
    "#        ACS(WFC3)    SBC              WFC3           ACS(GAIA)\n",
    "objs = ['B1608+656', 'DESJ0408-5354', 'HE0435-1223', 'PG1115+080',\n",
    "        'RXJ0911+0551', 'RXJ1131-1231', 'SDSSJ1004+4112', 'WFIJ2033-4723']\n",
    "objidx = 0\n",
    "lens = objs[objidx]\n",
    "print(lens)\n"
   ]
  },
  {
   "cell_type": "code",
   "execution_count": null,
   "metadata": {},
   "outputs": [],
   "source": [
    "statedir = 'states/'\n",
    "statefiles = ['11doubles_dg45.state',\n",
    "              '11doubles_dg60.state', '11doubles_CMB_dg60.state', '11doubles_SNeIa_dg60.state',\n",
    "              '7quads_dg45.state', '7quads_CMB_dg45.state', '7quads_SNeIa_dg45.state',\n",
    "              '7quads_dg60.state', '7quads_CMB_dg60.state', '7quads_SNeIa_dg60.state', \n",
    "              'all_dg60.state', 'all_SNeIa_dg60.state']\n",
    "statefile = statefiles[7]\n",
    "print(statefile)\n"
   ]
  },
  {
   "cell_type": "code",
   "execution_count": null,
   "metadata": {},
   "outputs": [],
   "source": [
    "lm = LensModel(statedir+statefile)\n",
    "lm.obj_idx = objidx\n",
    "print(lm.__v__)\n"
   ]
  },
  {
   "cell_type": "code",
   "execution_count": null,
   "metadata": {},
   "outputs": [],
   "source": [
    "%%script false\n",
    "# Prepare PCA data (refined grid)\n",
    "dims = (2*lm.pixrad+1)*lm.env.objects[0].basis.subdivision\n",
    "ea = lm.ensemble_average.reshape(dims**2)\n",
    "darr = lm.data  # lm.data_toplevel\n",
    "darr = darr.reshape((darr.shape[0], dims**2))\n",
    "darr = darr - ea\n",
    "\n",
    "print darr.shape, dims\n"
   ]
  },
  {
   "cell_type": "code",
   "execution_count": null,
   "metadata": {},
   "outputs": [],
   "source": [
    "# Prepare PCA data (coarse grid)\n",
    "dims = (2*lm.pixrad+1) # * lm.env.objects[0].basis.subdivision\n",
    "ea = lm.kappa_grid(-1, refined=False)\n",
    "ea_flat = ea.copy().reshape(dims**2)\n",
    "darr = lm.data_toplevel  # lm.data\n",
    "darr = darr.reshape((darr.shape[0], dims**2))\n",
    "# darr = darr - ea_flat\n",
    "\n",
    "print darr.shape, np.mean(darr)\n"
   ]
  },
  {
   "cell_type": "markdown",
   "metadata": {},
   "source": [
    "### Run PCA"
   ]
  },
  {
   "cell_type": "code",
   "execution_count": null,
   "metadata": {},
   "outputs": [],
   "source": [
    "# Standardize data\n",
    "scaler = StandardScaler(with_std=False)  # calculate (data - mu) / sigma=1\n",
    "scaler.fit(darr)\n",
    "std_arr = scaler.transform(darr)\n"
   ]
  },
  {
   "cell_type": "code",
   "execution_count": null,
   "metadata": {},
   "outputs": [],
   "source": [
    "Npc = darr.shape[1]\n",
    "pca = PCA(n_components=Npc)\n",
    "pca.fit(std_arr)\n",
    "print std_arr.shape\n"
   ]
  },
  {
   "cell_type": "code",
   "execution_count": null,
   "metadata": {},
   "outputs": [],
   "source": [
    "plt.plot(pca.explained_variance_, color=gcl.red)\n",
    "plt.xlabel('npc')\n",
    "plt.ylabel('eigval')\n",
    "plt.tight_layout()\n",
    "plt.savefig(\"results/{}_dist_eigval.pdf\".format(lens))\n",
    "plt.show()"
   ]
  },
  {
   "cell_type": "code",
   "execution_count": null,
   "metadata": {},
   "outputs": [],
   "source": [
    "plt.plot(np.cumsum(pca.explained_variance_ratio_), color=gcl.purpleblue)\n",
    "plt.xlabel(r'$\\Sigma$ npc')\n",
    "plt.ylabel('cumul. variance ratio')\n",
    "plt.tight_layout()\n",
    "plt.savefig(\"results/{}_cumul_var_ratio.pdf\".format(lens))\n",
    "plt.show()"
   ]
  },
  {
   "cell_type": "code",
   "execution_count": null,
   "metadata": {},
   "outputs": [],
   "source": [
    "pcacs = pca.components_\n",
    "pcacs = pcacs.reshape((pcacs.shape[0], dims, dims))\n",
    "print pcacs.shape\n"
   ]
  },
  {
   "cell_type": "code",
   "execution_count": null,
   "metadata": {},
   "outputs": [],
   "source": [
    "for i in range(10):\n",
    "    plt.imshow(pcacs[i], cmap='twilight')\n",
    "    plt.axis('off')\n",
    "    plt.gcf().axes[0].get_xaxis().set_visible(False)\n",
    "    plt.gcf().axes[0].get_yaxis().set_visible(False)\n",
    "    plt.colorbar()\n",
    "    plt.show()\n",
    "    plt.close()\n"
   ]
  },
  {
   "cell_type": "code",
   "execution_count": null,
   "metadata": {},
   "outputs": [],
   "source": [
    "kappa_map_plot(lm, mdl_index=-1, obj_index=objidx, extent=lm.extent,\n",
    "               contours=True, levels=7, delta=0.1, label=lm.obj_name)\n",
    "plt.show()\n"
   ]
  },
  {
   "cell_type": "code",
   "execution_count": null,
   "metadata": {},
   "outputs": [],
   "source": [
    "# calculate dot products between data vectors and the eigenvectors\n",
    "npca = 0\n",
    "warr = std_arr.reshape((1000, 17, 17)) * pcacs[npca, :]\n",
    "dotprods = np.sum(warr, axis=(1, 2))\n",
    "order_dotprods = dotprods.argsort()[::-1]\n",
    "print dotprods.shape\n",
    "print dotprods.max(), dotprods.min()\n",
    "print dotprods[order_dotprods[160]], dotprods[order_dotprods[840]]\n",
    "print order_dotprods[0:10], order_dotprods[-10:]\n",
    "\n",
    "projections = np.array([d*pcacs[npca, :] for d in dotprods])\n",
    "print projections.shape\n"
   ]
  },
  {
   "cell_type": "code",
   "execution_count": null,
   "metadata": {},
   "outputs": [],
   "source": [
    "kappa_map_plot(lm, shift=projections[order_dotprods[160]], mdl_index=-1, obj_index=objidx, extent=lm.extent,\n",
    "               contours=True, levels=7, delta=0.1, label=lm.obj_name)"
   ]
  },
  {
   "cell_type": "code",
   "execution_count": null,
   "metadata": {},
   "outputs": [],
   "source": [
    "kappa_map_plot(lm, shift=projections[order_dotprods[840]], mdl_index=-1, obj_index=objidx, extent=lm.extent,\n",
    "               contours=True, levels=7, delta=0.1, label=lm.obj_name)"
   ]
  },
  {
   "cell_type": "code",
   "execution_count": null,
   "metadata": {},
   "outputs": [],
   "source": [
    "for npca in [0, 1, 2, 3, 4, 9, 24, 49, 99]:\n",
    "    warr = std_arr.reshape((1000, 17, 17)) * pcacs[npca, :]\n",
    "    dotprods = np.sum(warr, axis=(1, 2))\n",
    "    order_dotprods = dotprods.argsort()[::-1]\n",
    "    projections = np.array([d*pcacs[npca, :] for d in dotprods])\n",
    "    kappa_map_plot(lm, shift=projections[order_dotprods[160]],\n",
    "                   mdl_index=-1, obj_index=objidx, extent=lm.extent,\n",
    "                   contours=True, levels=7, delta=0.1, label=lm.obj_name)\n",
    "    plot_scalebar(R=lm.maprad, length=max(int(lm.maprad/2), 1))\n",
    "    plt.axis('off')\n",
    "    plt.gcf().axes[0].get_xaxis().set_visible(False)\n",
    "    plt.gcf().axes[0].get_yaxis().set_visible(False)\n",
    "    plt.savefig(\"results/{}_kappa_pca{}_{}.pdf\".format(lens, npca+1, 16), transparent=True, bbox_inches='tight', pad_inches=0)\n",
    "    plt.close()\n",
    "    kappa_map_plot(lm, shift=projections[order_dotprods[840]],\n",
    "                   mdl_index=-1, obj_index=objidx, extent=lm.extent,\n",
    "                   contours=True, levels=7, delta=0.1, label=lm.obj_name)\n",
    "    plot_scalebar(R=lm.maprad, length=max(int(lm.maprad/2), 1))\n",
    "    plt.axis('off')\n",
    "    plt.gcf().axes[0].get_xaxis().set_visible(False)\n",
    "    plt.gcf().axes[0].get_yaxis().set_visible(False)\n",
    "    plt.savefig(\"results/{}_kappa_pca{}_{}.pdf\".format(lens, npca+1, 84), transparent=True, bbox_inches='tight', pad_inches=0)\n",
    "    plt.close()\n"
   ]
  },
  {
   "cell_type": "code",
   "execution_count": null,
   "metadata": {},
   "outputs": [],
   "source": []
  }
 ],
 "metadata": {
  "language_info": {
   "codemirror_mode": {
    "name": "ipython",
    "version": 2
   },
   "file_extension": ".py",
   "mimetype": "text/x-python",
   "name": "python",
   "nbconvert_exporter": "python",
   "pygments_lexer": "ipython2",
   "version": "2.7.15-final"
  },
  "orig_nbformat": 2,
  "kernelspec": {
   "name": "python271564bitd942312e7b7943e19baa3c7e3a3a5111",
   "display_name": "Python 2.7.15 64-bit"
  }
 },
 "nbformat": 4,
 "nbformat_minor": 2
}